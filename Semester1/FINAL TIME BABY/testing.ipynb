{
 "cells": [
  {
   "cell_type": "code",
   "execution_count": 1,
   "id": "e228640b",
   "metadata": {},
   "outputs": [],
   "source": [
    "import requests\n",
    "from bs4 import BeautifulSoup"
   ]
  },
  {
   "cell_type": "code",
   "execution_count": 3,
   "id": "004c5d10",
   "metadata": {},
   "outputs": [],
   "source": [
    "i=1\n",
    "while i < 10:\n",
    "    url = \"https://openlibrary.org/trending/forever?page=\"+str(i)\n",
    "    response =requests.get(url)\n",
    "    html_con = response.text\n",
    "    soup = BeautifulSoup(html_con, 'html.parser')\n",
    "    uls = soup.find_all(\"h3\",{\"class\":\"booktitle\"})\n",
    "    Books ={\"Book\":[]}\n",
    "    for a in uls:\n",
    "        Book = a.get_text()\n",
    "        Book = Book.strip()\n",
    "        Books[\"Book\"].append(Book)\n",
    "    auths = soup.find_all(\"span\",{\"class\":\"bookauthor\"})\n",
    "    Authors = {\"Author\":[]}\n",
    "    for a in auths:\n",
    "        auth = a.get_text()\n",
    "        auth = auth.strip()\n",
    "        result = auth.split(\"by\")\n",
    "        just_auth = result[1]\n",
    "        Authors[\"Author\"].append(just_auth)\n",
    "    year = soup.find_all(\"span\",{\"class\":\"resultDetails\"})\n",
    "    years = {\"Year\":[]}\n",
    "    for a in year:\n",
    "        year = a.get_text()\n",
    "        year = year.strip()\n",
    "        result = year.split()\n",
    "        just_year = result[3]\n",
    "        just_year = int(just_year)\n",
    "        years[\"Year\"].append(just_year)\n",
    "        log = soup.find_all(\"div\", {\"class\":\"details\"})\n",
    "    logs ={\"Logs\":[]}\n",
    "    for a in log:\n",
    "        log = a.get_text()\n",
    "        log = log.strip()\n",
    "        result = log.split(\"Logged\")\n",
    "        result = result[1].split(\"times\")\n",
    "        result = result[0]\n",
    "        result = int(result)\n",
    "        logs[\"Logs\"].append(result)\n",
    "    i +=1"
   ]
  },
  {
   "cell_type": "code",
   "execution_count": null,
   "id": "e16103a3",
   "metadata": {},
   "outputs": [],
   "source": []
  }
 ],
 "metadata": {
  "kernelspec": {
   "display_name": "Python 3 (ipykernel)",
   "language": "python",
   "name": "python3"
  },
  "language_info": {
   "codemirror_mode": {
    "name": "ipython",
    "version": 3
   },
   "file_extension": ".py",
   "mimetype": "text/x-python",
   "name": "python",
   "nbconvert_exporter": "python",
   "pygments_lexer": "ipython3",
   "version": "3.9.13"
  }
 },
 "nbformat": 4,
 "nbformat_minor": 5
}
