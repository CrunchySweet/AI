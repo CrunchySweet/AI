{
 "cells": [
  {
   "cell_type": "markdown",
   "id": "9919c268",
   "metadata": {},
   "source": [
    "# Choose a Data Set\n",
    "\n",
    "Create your own dataset by scraping one of the following websites *(level 5)*:\n",
    "- [Wikipedia](https://www.wikipedia.org/)\n",
    "- [OpenLibrary](https://openlibrary.org/)\n",
    "\n",
    "**OR** \n",
    "\n",
    "Use data gathered from one of the following APIs *(level 4)*: \n",
    "- [TMDB](https://developer.themoviedb.org/reference/intro/getting-started)\n",
    "- [College Scorecard](https://collegescorecard.ed.gov/data/api-documentation/)\n",
    "\n",
    "**OR** \n",
    "\n",
    "Pick a JSON dataset *(level 3)*:\n",
    "- [Food/Restaurant Data](https://drive.google.com/drive/folders/1V94S6WpclvQmbnW88KVMD4EruryA1oma?usp=drive_link)\n",
    "- [Fashion Data](https://drive.google.com/drive/folders/1V8SbFjtRRW8WVf3xBzg0gzLjOtMhHea_?usp=drive_link)\n",
    "\n",
    "**OR** \n",
    "\n",
    "Pick a CSV dataset *(level 2)*:\n",
    "- [LA Parking Tickets](https://drive.google.com/drive/folders/1vaOfwMi6QmZEGsXr8VM0ulPGzvTTBCgm?usp=drive_link)\n",
    "- [Hotels](https://drive.google.com/drive/folders/1IpVFxgwBJvJHKoOuBsk6WK2qYqFYP4hi?usp=drive_link)"
   ]
  },
  {
   "cell_type": "markdown",
   "id": "ae147ea6",
   "metadata": {},
   "source": [
    "# My Question\n",
    "### In OpenLibrary's All time trending. What is the chance that a new book will have more than the average amount of logs a book should have?"
   ]
  },
  {
   "cell_type": "markdown",
   "id": "149f324f",
   "metadata": {},
   "source": [
    "# My Answer"
   ]
  },
  {
   "cell_type": "code",
   "execution_count": 28,
   "id": "b228559e",
   "metadata": {},
   "outputs": [],
   "source": [
    "import requests\n",
    "from bs4 import BeautifulSoup\n",
    "import random\n",
    "import pandas as pd\n",
    "import seaborn as sns\n",
    "import random"
   ]
  },
  {
   "cell_type": "markdown",
   "id": "aefe5753",
   "metadata": {},
   "source": [
    "***These are libraries they make my code to actually function.***"
   ]
  },
  {
   "cell_type": "code",
   "execution_count": 2,
   "id": "69c67502",
   "metadata": {},
   "outputs": [],
   "source": [
    "url = \"https://openlibrary.org/trending/forever?page=\"+str(i)\n",
    "response =requests.get(url)\n",
    "html_con = response.text\n",
    "soup = BeautifulSoup(html_con, 'html.parser')"
   ]
  },
  {
   "cell_type": "markdown",
   "id": "4d93cfe1",
   "metadata": {},
   "source": [
    "***This code takes info from the url which allows me to start scraping it.***"
   ]
  },
  {
   "cell_type": "code",
   "execution_count": 58,
   "id": "8a936076",
   "metadata": {},
   "outputs": [],
   "source": [
    "Books ={\"Book\":[]}\n",
    "Authors = {\"Author\":[]}\n",
    "years = {\"Year\":[]}\n",
    "logs ={\"Logs\":[]}\n",
    "i=1\n",
    "while i <= 10:\n",
    "    url = \"https://openlibrary.org/trending/forever?page=\"+str(i)\n",
    "    response =requests.get(url)\n",
    "    html_con = response.text\n",
    "    soup = BeautifulSoup(html_con, 'html.parser')\n",
    "    uls = soup.find_all(\"h3\",{\"class\":\"booktitle\"})\n",
    "    for a in uls:\n",
    "        Book = a.get_text()\n",
    "        Book = Book.strip()\n",
    "        Books[\"Book\"].append(Book)\n",
    "    auths = soup.find_all(\"span\",{\"class\":\"bookauthor\"})\n",
    "    for a in auths:\n",
    "        auth = a.get_text()\n",
    "        auth = auth.strip()\n",
    "        result = auth.split(\"by\")\n",
    "        just_auth = result[1]\n",
    "        Authors[\"Author\"].append(just_auth)\n",
    "    year = soup.find_all(\"span\",{\"class\":\"resultDetails\"})\n",
    "    for a in year:\n",
    "        year = a.get_text()\n",
    "        year = year.strip()\n",
    "        result = year.split()\n",
    "        just_year = result[3]\n",
    "        just_year = int(just_year)\n",
    "        years[\"Year\"].append(just_year)\n",
    "        log = soup.find_all(\"div\", {\"class\":\"details\"})\n",
    "    for a in log:\n",
    "        log = a.get_text()\n",
    "        log = log.strip()\n",
    "        result = log.split(\"Logged\")\n",
    "        result = result[1].split(\"times\")\n",
    "        result = result[0]\n",
    "        result = int(result)\n",
    "        logs[\"Logs\"].append(result)\n",
    "    i +=1"
   ]
  },
  {
   "cell_type": "markdown",
   "id": "f3cc1fef",
   "metadata": {},
   "source": [
    "***This code scraped the page source of the url to give me the Book name, Authors, Year it was published and the amount of times it has been logged (checked out).***"
   ]
  },
  {
   "cell_type": "code",
   "execution_count": 59,
   "id": "1849c2ea",
   "metadata": {},
   "outputs": [],
   "source": [
    "df = pd.DataFrame(Books)"
   ]
  },
  {
   "cell_type": "code",
   "execution_count": 60,
   "id": "28510222",
   "metadata": {},
   "outputs": [],
   "source": [
    "df2 = pd.DataFrame(Authors)"
   ]
  },
  {
   "cell_type": "code",
   "execution_count": 61,
   "id": "80072ca9",
   "metadata": {},
   "outputs": [],
   "source": [
    "df3 = pd.DataFrame(years)"
   ]
  },
  {
   "cell_type": "code",
   "execution_count": 62,
   "id": "2b991091",
   "metadata": {},
   "outputs": [],
   "source": [
    "df4 = pd.DataFrame(logs)"
   ]
  },
  {
   "cell_type": "markdown",
   "id": "a639cd49",
   "metadata": {},
   "source": [
    "***Im putting all of them into dataframes so I can start merging them into one big dataframe.***"
   ]
  },
  {
   "cell_type": "code",
   "execution_count": 63,
   "id": "af20a8ac",
   "metadata": {},
   "outputs": [],
   "source": [
    "All = pd.merge(df, df2, left_index=True, right_index=True)"
   ]
  },
  {
   "cell_type": "code",
   "execution_count": 64,
   "id": "dee5783b",
   "metadata": {},
   "outputs": [],
   "source": [
    "All = pd.merge(All, df3, left_index=True, right_index=True)"
   ]
  },
  {
   "cell_type": "code",
   "execution_count": 65,
   "id": "22bcc418",
   "metadata": {},
   "outputs": [],
   "source": [
    "All = pd.merge(All, df4, left_index=True, right_index=True)"
   ]
  },
  {
   "cell_type": "code",
   "execution_count": 66,
   "id": "455270d2",
   "metadata": {
    "scrolled": false
   },
   "outputs": [
    {
     "name": "stdout",
     "output_type": "stream",
     "text": [
      "<class 'pandas.core.frame.DataFrame'>\n",
      "RangeIndex: 199 entries, 0 to 198\n",
      "Data columns (total 4 columns):\n",
      " #   Column  Non-Null Count  Dtype \n",
      "---  ------  --------------  ----- \n",
      " 0   Book    199 non-null    object\n",
      " 1   Author  199 non-null    object\n",
      " 2   Year    199 non-null    int64 \n",
      " 3   Logs    199 non-null    int64 \n",
      "dtypes: int64(2), object(2)\n",
      "memory usage: 6.3+ KB\n"
     ]
    }
   ],
   "source": [
    "All.info()"
   ]
  },
  {
   "cell_type": "markdown",
   "id": "c4ac3f46",
   "metadata": {},
   "source": [
    "***This is me merging all the data one by one into one dataframe. I also ran the dataframe to see if it looked readable.***"
   ]
  },
  {
   "cell_type": "code",
   "execution_count": 67,
   "id": "f4dc04be",
   "metadata": {},
   "outputs": [
    {
     "data": {
      "text/html": [
       "<div>\n",
       "<style scoped>\n",
       "    .dataframe tbody tr th:only-of-type {\n",
       "        vertical-align: middle;\n",
       "    }\n",
       "\n",
       "    .dataframe tbody tr th {\n",
       "        vertical-align: top;\n",
       "    }\n",
       "\n",
       "    .dataframe thead th {\n",
       "        text-align: right;\n",
       "    }\n",
       "</style>\n",
       "<table border=\"1\" class=\"dataframe\">\n",
       "  <thead>\n",
       "    <tr style=\"text-align: right;\">\n",
       "      <th></th>\n",
       "      <th>Book</th>\n",
       "      <th>Author</th>\n",
       "      <th>Year</th>\n",
       "      <th>Logs</th>\n",
       "    </tr>\n",
       "  </thead>\n",
       "  <tbody>\n",
       "    <tr>\n",
       "      <th>0</th>\n",
       "      <td>Atomic Habits</td>\n",
       "      <td>James Clear</td>\n",
       "      <td>2016</td>\n",
       "      <td>41326</td>\n",
       "    </tr>\n",
       "    <tr>\n",
       "      <th>1</th>\n",
       "      <td>It Ends With Us</td>\n",
       "      <td>Colleen Hoover</td>\n",
       "      <td>2012</td>\n",
       "      <td>40613</td>\n",
       "    </tr>\n",
       "    <tr>\n",
       "      <th>2</th>\n",
       "      <td>The 48 Laws of Power</td>\n",
       "      <td>Robert Greene and Joost Elffers</td>\n",
       "      <td>1998</td>\n",
       "      <td>35121</td>\n",
       "    </tr>\n",
       "    <tr>\n",
       "      <th>3</th>\n",
       "      <td>The Subtle Art of Not Giving a F*ck</td>\n",
       "      <td>Mark Manson</td>\n",
       "      <td>2016</td>\n",
       "      <td>30237</td>\n",
       "    </tr>\n",
       "    <tr>\n",
       "      <th>4</th>\n",
       "      <td>Um casamento arranjado</td>\n",
       "      <td>Zana Kheiron</td>\n",
       "      <td>2019</td>\n",
       "      <td>23281</td>\n",
       "    </tr>\n",
       "    <tr>\n",
       "      <th>5</th>\n",
       "      <td>Rich Dad, Poor Dad</td>\n",
       "      <td>Robert T. Kiyosaki and Sharon L. Lechter</td>\n",
       "      <td>1990</td>\n",
       "      <td>23044</td>\n",
       "    </tr>\n",
       "    <tr>\n",
       "      <th>6</th>\n",
       "      <td>Harry Potter and the Philosopher's Stone</td>\n",
       "      <td>J. K. Rowling</td>\n",
       "      <td>1997</td>\n",
       "      <td>16039</td>\n",
       "    </tr>\n",
       "    <tr>\n",
       "      <th>7</th>\n",
       "      <td>Control Your Mind and Master Your Feelings</td>\n",
       "      <td>Eric Robertson - undifferentiated</td>\n",
       "      <td>2019</td>\n",
       "      <td>15569</td>\n",
       "    </tr>\n",
       "    <tr>\n",
       "      <th>8</th>\n",
       "      <td>It Starts with Us</td>\n",
       "      <td>Colleen Hoover</td>\n",
       "      <td>2022</td>\n",
       "      <td>15560</td>\n",
       "    </tr>\n",
       "    <tr>\n",
       "      <th>9</th>\n",
       "      <td>Think and Grow Rich</td>\n",
       "      <td>Napoleon Hill</td>\n",
       "      <td>1937</td>\n",
       "      <td>11776</td>\n",
       "    </tr>\n",
       "    <tr>\n",
       "      <th>10</th>\n",
       "      <td>Latidos Que No Dije</td>\n",
       "      <td>Roos</td>\n",
       "      <td>2022</td>\n",
       "      <td>9779</td>\n",
       "    </tr>\n",
       "    <tr>\n",
       "      <th>11</th>\n",
       "      <td>How to Win Friends and Influence People</td>\n",
       "      <td>Dale Carnegie</td>\n",
       "      <td>1913</td>\n",
       "      <td>9271</td>\n",
       "    </tr>\n",
       "    <tr>\n",
       "      <th>12</th>\n",
       "      <td>Twisted Love</td>\n",
       "      <td>Ana Huang</td>\n",
       "      <td>2021</td>\n",
       "      <td>8890</td>\n",
       "    </tr>\n",
       "    <tr>\n",
       "      <th>13</th>\n",
       "      <td>A Game of Thrones</td>\n",
       "      <td>George R. R. Martin</td>\n",
       "      <td>1996</td>\n",
       "      <td>8679</td>\n",
       "    </tr>\n",
       "    <tr>\n",
       "      <th>14</th>\n",
       "      <td>It</td>\n",
       "      <td>Stephen King</td>\n",
       "      <td>1925</td>\n",
       "      <td>7932</td>\n",
       "    </tr>\n",
       "    <tr>\n",
       "      <th>15</th>\n",
       "      <td>The Psychology of Money</td>\n",
       "      <td>Morgan Housel</td>\n",
       "      <td>2020</td>\n",
       "      <td>7835</td>\n",
       "    </tr>\n",
       "    <tr>\n",
       "      <th>16</th>\n",
       "      <td>A Court of Mist and Fury</td>\n",
       "      <td>Sarah J. Maas</td>\n",
       "      <td>2014</td>\n",
       "      <td>7835</td>\n",
       "    </tr>\n",
       "    <tr>\n",
       "      <th>17</th>\n",
       "      <td>The Love Hypothesis</td>\n",
       "      <td>Ali Hazelwood</td>\n",
       "      <td>2021</td>\n",
       "      <td>7112</td>\n",
       "    </tr>\n",
       "    <tr>\n",
       "      <th>18</th>\n",
       "      <td>Shatter Me</td>\n",
       "      <td>Tahereh Mafi</td>\n",
       "      <td>2011</td>\n",
       "      <td>6874</td>\n",
       "    </tr>\n",
       "    <tr>\n",
       "      <th>19</th>\n",
       "      <td>Haunting Adeline</td>\n",
       "      <td>H. D. Carlton</td>\n",
       "      <td>2021</td>\n",
       "      <td>6872</td>\n",
       "    </tr>\n",
       "  </tbody>\n",
       "</table>\n",
       "</div>"
      ],
      "text/plain": [
       "                                          Book  \\\n",
       "0                                Atomic Habits   \n",
       "1                              It Ends With Us   \n",
       "2                         The 48 Laws of Power   \n",
       "3          The Subtle Art of Not Giving a F*ck   \n",
       "4                       Um casamento arranjado   \n",
       "5                           Rich Dad, Poor Dad   \n",
       "6     Harry Potter and the Philosopher's Stone   \n",
       "7   Control Your Mind and Master Your Feelings   \n",
       "8                            It Starts with Us   \n",
       "9                          Think and Grow Rich   \n",
       "10                         Latidos Que No Dije   \n",
       "11     How to Win Friends and Influence People   \n",
       "12                                Twisted Love   \n",
       "13                           A Game of Thrones   \n",
       "14                                          It   \n",
       "15                     The Psychology of Money   \n",
       "16                    A Court of Mist and Fury   \n",
       "17                         The Love Hypothesis   \n",
       "18                                  Shatter Me   \n",
       "19                            Haunting Adeline   \n",
       "\n",
       "                                       Author  Year   Logs  \n",
       "0                                 James Clear  2016  41326  \n",
       "1                              Colleen Hoover  2012  40613  \n",
       "2             Robert Greene and Joost Elffers  1998  35121  \n",
       "3                                 Mark Manson  2016  30237  \n",
       "4                                Zana Kheiron  2019  23281  \n",
       "5    Robert T. Kiyosaki and Sharon L. Lechter  1990  23044  \n",
       "6                               J. K. Rowling  1997  16039  \n",
       "7           Eric Robertson - undifferentiated  2019  15569  \n",
       "8                              Colleen Hoover  2022  15560  \n",
       "9                               Napoleon Hill  1937  11776  \n",
       "10                                       Roos  2022   9779  \n",
       "11                              Dale Carnegie  1913   9271  \n",
       "12                                  Ana Huang  2021   8890  \n",
       "13                        George R. R. Martin  1996   8679  \n",
       "14                               Stephen King  1925   7932  \n",
       "15                              Morgan Housel  2020   7835  \n",
       "16                              Sarah J. Maas  2014   7835  \n",
       "17                              Ali Hazelwood  2021   7112  \n",
       "18                               Tahereh Mafi  2011   6874  \n",
       "19                              H. D. Carlton  2021   6872  "
      ]
     },
     "execution_count": 67,
     "metadata": {},
     "output_type": "execute_result"
    }
   ],
   "source": [
    "All.head(20)"
   ]
  },
  {
   "cell_type": "markdown",
   "id": "a9de3d88",
   "metadata": {},
   "source": [
    "# P(Book) = 0.22"
   ]
  },
  {
   "cell_type": "markdown",
   "id": "9909cce4",
   "metadata": {},
   "source": [
    "***This means that a new book has an 22% chance to be higher than the average.***"
   ]
  },
  {
   "cell_type": "code",
   "execution_count": 75,
   "id": "9a6451d4",
   "metadata": {},
   "outputs": [
    {
     "name": "stdout",
     "output_type": "stream",
     "text": [
      "Emp Probability: 0.212\n",
      "Average of Logs: 3882.527638190955\n"
     ]
    },
    {
     "data": {
      "image/png": "[encoded data removed]",
      "text/plain": [
       "<Figure size 640x480 with 1 Axes>"
      ]
     },
     "metadata": {},
     "output_type": "display_data"
    }
   ],
   "source": [
    "rounds = 0 \n",
    "book = 0\n",
    "trial = 1000\n",
    "while rounds<trial:\n",
    "        num = random.randint(0, 198)\n",
    "        if All[\"Logs\"][num] >= 3882:\n",
    "                book += 1\n",
    "        rounds += 1\n",
    "    \n",
    "print(\"Emp Probability:\", str((book/trial)))\n",
    "sns.histplot(data=All, x=\"Logs\",bins=8)\n",
    "print(\"Average of Logs:\",All[\"Logs\"].mean())"
   ]
  },
  {
   "cell_type": "code",
   "execution_count": null,
   "id": "9341644a",
   "metadata": {},
   "outputs": [],
   "source": []
  }
 ],
 "metadata": {
  "kernelspec": {
   "display_name": "Python 3 (ipykernel)",
   "language": "python",
   "name": "python3"
  },
  "language_info": {
   "codemirror_mode": {
    "name": "ipython",
    "version": 3
   },
   "file_extension": ".py",
   "mimetype": "text/x-python",
   "name": "python",
   "nbconvert_exporter": "python",
   "pygments_lexer": "ipython3",
   "version": "3.9.13"
  }
 },
 "nbformat": 4,
 "nbformat_minor": 5
}
