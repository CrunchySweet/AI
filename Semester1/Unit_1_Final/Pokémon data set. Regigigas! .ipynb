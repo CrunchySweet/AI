{
 "cells": [
  {
   "cell_type": "markdown",
   "id": "c80b3b64",
   "metadata": {},
   "source": [
    "# Choose a Data Set\n",
    "Pick one of the following data sets to analyze for your final project. \n",
    "- [Cosmetics](https://drive.google.com/drive/folders/1qvmRfGb7a_pYAtgW6614gxlP-bxl_Ptz?usp=drive_link)\n",
    "- [Mental Health](https://drive.google.com/drive/folders/1YOp1aQVcmqlAkUEGHNPl_TyNXbY-xHwO?usp=drive_link)\n",
    "- [Pokemon](https://drive.google.com/drive/folders/1kDu2oRgm_hUW5hdM0tHnMUqCGSKUYT1v?usp=drive_link)\n",
    "- [Ramen](https://drive.google.com/drive/folders/1Y4_5QHOCy8rHc5EsEwDUuoCfp2WLo-MN?usp=drive_link)\n",
    "- [Student Performance](https://drive.google.com/drive/folders/1fE31Ka38AnGpgfI_Es3z4psuA0phhH0Y?usp=drive_link)"
   ]
  },
  {
   "cell_type": "markdown",
   "id": "8a7e64bc",
   "metadata": {},
   "source": [
    "# My Question"
   ]
  },
  {
   "cell_type": "markdown",
   "id": "b52e166c",
   "metadata": {},
   "source": [
    "***What is the Standard Deviation of HP? And, given this, how impressive is Regigigas?***"
   ]
  },
  {
   "cell_type": "markdown",
   "id": "0a574d2e",
   "metadata": {},
   "source": [
    "# My Analysis"
   ]
  },
  {
   "cell_type": "code",
   "execution_count": 1,
   "id": "e9e64518",
   "metadata": {},
   "outputs": [],
   "source": [
    "import pandas as pd\n",
    "import seaborn as sns\n",
    "df = pd.read_csv('pokemon.csv', encoding='ISO-8859-1')"
   ]
  },
  {
   "cell_type": "markdown",
   "id": "41754d4b",
   "metadata": {},
   "source": [
    "### These are my libraries that allow me to excute some commands like graphs and reading this data."
   ]
  },
  {
   "cell_type": "code",
   "execution_count": 2,
   "id": "75f1f0d3",
   "metadata": {},
   "outputs": [
    {
     "data": {
      "text/plain": [
       "Index(['#', 'Name', 'Type 1', 'Type 2', 'Total', 'HP', 'Attack', 'Defense',\n",
       "       'Sp. Atk', 'Sp. Def', 'Speed', 'Generation', 'Legendary'],\n",
       "      dtype='object')"
      ]
     },
     "execution_count": 2,
     "metadata": {},
     "output_type": "execute_result"
    }
   ],
   "source": [
    "df.columns"
   ]
  },
  {
   "cell_type": "markdown",
   "id": "cf527403",
   "metadata": {},
   "source": [
    "### This allows me to look at all the variables in the data set and see how they're spelled to make my code work."
   ]
  },
  {
   "cell_type": "code",
   "execution_count": 3,
   "id": "4f1e2261",
   "metadata": {},
   "outputs": [
    {
     "data": {
      "text/plain": [
       "#                   486\n",
       "Name          Regigigas\n",
       "Type 1           Normal\n",
       "Type 2              NaN\n",
       "Total               670\n",
       "HP                  110\n",
       "Attack              160\n",
       "Defense             110\n",
       "Sp. Atk              80\n",
       "Sp. Def             110\n",
       "Speed               100\n",
       "Generation            4\n",
       "Legendary          True\n",
       "Name: 543, dtype: object"
      ]
     },
     "execution_count": 3,
     "metadata": {},
     "output_type": "execute_result"
    }
   ],
   "source": [
    "df.loc[543]"
   ]
  },
  {
   "cell_type": "markdown",
   "id": "2c44fc4e",
   "metadata": {},
   "source": [
    " ### This is the pokemon im trying to solve for."
   ]
  },
  {
   "cell_type": "code",
   "execution_count": 4,
   "id": "95244d75",
   "metadata": {},
   "outputs": [
    {
     "name": "stdout",
     "output_type": "stream",
     "text": [
      "The Average of HP = 69.25875\n",
      "Standard Deviation of HP = 25.534669032332047\n"
     ]
    },
    {
     "data": {
      "image/png": "[encoded data removed]",
      "text/plain": [
       "<Figure size 640x480 with 1 Axes>"
      ]
     },
     "metadata": {},
     "output_type": "display_data"
    }
   ],
   "source": [
    "sns.histplot(df,x='HP', bins=50)\n",
    "def dev(column):\n",
    "    return column.std()\n",
    "stdHP = dev(df[\"HP\"])\n",
    "avgHP = df[\"HP\"].mean()\n",
    "print (\"The Average of HP =\",avgHP)\n",
    "print(\"Standard Deviation of HP =\",stdHP)"
   ]
  },
  {
   "cell_type": "markdown",
   "id": "256d965c",
   "metadata": {},
   "source": [
    "## This is the graph of all the pokemons HP."
   ]
  },
  {
   "cell_type": "code",
   "execution_count": 5,
   "id": "302a1b51",
   "metadata": {},
   "outputs": [
    {
     "name": "stdout",
     "output_type": "stream",
     "text": [
      "Most of the data lands between 43.72408096766796 and 94.79341903233205\n"
     ]
    }
   ],
   "source": [
    "lHP = avgHP - stdHP\n",
    "uHP = avgHP + stdHP\n",
    "print(\"Most of the data lands between\", lHP, \"and\", uHP)"
   ]
  },
  {
   "cell_type": "markdown",
   "id": "bc8d2b93",
   "metadata": {},
   "source": [
    "### Subtracting and adding the standard deviation to the average to find where most of the data lands."
   ]
  },
  {
   "cell_type": "code",
   "execution_count": 6,
   "id": "4d01643b",
   "metadata": {},
   "outputs": [
    {
     "name": "stdout",
     "output_type": "stream",
     "text": [
      "The pokemon's HP score = 1.5955268481613505\n"
     ]
    }
   ],
   "source": [
    "idx = 0\n",
    "for pokemon in df[\"Name\"]:\n",
    "    if \"Regigigas\" in pokemon:\n",
    "        break\n",
    "    idx += 1\n",
    "HPScore = ((df.loc[idx]['HP']) - avgHP) / stdHP \n",
    "print( \"The pokemon's HP score =\", HPScore)"
   ]
  },
  {
   "cell_type": "markdown",
   "id": "ea25a4de",
   "metadata": {},
   "source": [
    "### The code here allows you to plug in any pokemon name and finds its Z-score for HP."
   ]
  },
  {
   "cell_type": "code",
   "execution_count": 7,
   "id": "afc9546a",
   "metadata": {},
   "outputs": [
    {
     "name": "stdout",
     "output_type": "stream",
     "text": [
      "99\n",
      "776\n"
     ]
    }
   ],
   "source": [
    "UpperHP = 0\n",
    "AllHP = 0\n",
    "for pokemon in df['HP']:\n",
    "    if pokemon >= 94.793 and pokemon <= 120.326:\n",
    "        UpperHP += 1\n",
    "        AllHP +=1\n",
    "    elif pokemon <= 94.793:\n",
    "        AllHP += 1\n",
    "    elif pokemon >= 120.326:\n",
    "        AllHP\n",
    "        \n",
    "print(UpperHP)\n",
    "print(AllHP)"
   ]
  },
  {
   "cell_type": "markdown",
   "id": "9bc2724b",
   "metadata": {},
   "source": [
    "### Shows how many more pokemon are in that range with Regigigas."
   ]
  },
  {
   "cell_type": "markdown",
   "id": "77e676b2",
   "metadata": {},
   "source": [
    "# My Answer"
   ]
  },
  {
   "cell_type": "markdown",
   "id": "16aec0ac",
   "metadata": {},
   "source": [
    "***The Standard Deviation of HP is 25.534. This means that most of the data landed 25.534 HP from the average. The average being 69.258 HP, meaning that the data landed between 43.724 HP to 94.792 HP. Regigigas is pretty impressive compared to the data with a Z-score of 1.595. The reason this score is impressive is because its outside the range of where most data is landing Z-score shows how many deviations its above the average. So this means Regigigas is 1.595 deviations above the mean putting them in this range of 94.793 HP to 120.326 HP. Which is impressive since only 99 other pokemon out of 776 are in that range some are higher.***"
   ]
  }
 ],
 "metadata": {
  "kernelspec": {
   "display_name": "Python 3 (ipykernel)",
   "language": "python",
   "name": "python3"
  },
  "language_info": {
   "codemirror_mode": {
    "name": "ipython",
    "version": 3
   },
   "file_extension": ".py",
   "mimetype": "text/x-python",
   "name": "python",
   "nbconvert_exporter": "python",
   "pygments_lexer": "ipython3",
   "version": "3.12.7"
  }
 },
 "nbformat": 4,
 "nbformat_minor": 5
}
