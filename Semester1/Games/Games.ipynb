{
 "cells": [
  {
   "cell_type": "code",
   "execution_count": 1,
   "id": "9f00ef5d",
   "metadata": {},
   "outputs": [],
   "source": [
    "import pandas as pd\n",
    "import seaborn as sns\n",
    "import matplotlib.pyplot as plt\n",
    "df = pd.read_json('games.json')"
   ]
  },
  {
   "cell_type": "code",
   "execution_count": 2,
   "id": "b9919e5e",
   "metadata": {},
   "outputs": [
    {
     "data": {
      "text/plain": [
       "Index(['ID', 'name', 'release_date', 'estimated_owners', 'peak_ccu',\n",
       "       'required_age', 'price', 'dlc_count', 'main_description',\n",
       "       'supported_languages', 'full_audio_languages', 'reviews',\n",
       "       'header_image', 'website', 'support_url', 'support_email', 'windows',\n",
       "       'mac', 'linux', 'metacritic_score', 'metacriticURL', 'user_score',\n",
       "       'positive', 'negative', 'score_rank', 'achievements', 'recommendations',\n",
       "       'notes', 'average_playtime_forever', 'average_playtime_2weeks',\n",
       "       'median_playtime_forever', 'packages', 'developers', 'publishers',\n",
       "       'categories', 'genres', 'tags', 'screenshots'],\n",
       "      dtype='object')"
      ]
     },
     "execution_count": 2,
     "metadata": {},
     "output_type": "execute_result"
    }
   ],
   "source": [
    "df.columns"
   ]
  },
  {
   "cell_type": "code",
   "execution_count": 3,
   "id": "2b5935f4",
   "metadata": {},
   "outputs": [
    {
     "name": "stdout",
     "output_type": "stream",
     "text": [
      "<class 'pandas.core.frame.DataFrame'>\n",
      "Int64Index: 97410 entries, 0 to 97409\n",
      "Data columns (total 38 columns):\n",
      " #   Column                    Non-Null Count  Dtype  \n",
      "---  ------                    --------------  -----  \n",
      " 0   ID                        97410 non-null  int64  \n",
      " 1   name                      97404 non-null  object \n",
      " 2   release_date              97410 non-null  object \n",
      " 3   estimated_owners          97410 non-null  object \n",
      " 4   peak_ccu                  97410 non-null  int64  \n",
      " 5   required_age              97410 non-null  int64  \n",
      " 6   price                     97410 non-null  float64\n",
      " 7   dlc_count                 97410 non-null  int64  \n",
      " 8   main_description          92540 non-null  object \n",
      " 9   supported_languages       97410 non-null  object \n",
      " 10  full_audio_languages      97410 non-null  object \n",
      " 11  reviews                   10125 non-null  object \n",
      " 12  header_image              97410 non-null  object \n",
      " 13  website                   42737 non-null  object \n",
      " 14  support_url               45908 non-null  object \n",
      " 15  support_email             81378 non-null  object \n",
      " 16  windows                   97410 non-null  bool   \n",
      " 17  mac                       97410 non-null  bool   \n",
      " 18  linux                     97410 non-null  bool   \n",
      " 19  metacritic_score          97410 non-null  int64  \n",
      " 20  metacriticURL             3953 non-null   object \n",
      " 21  user_score                97410 non-null  int64  \n",
      " 22  positive                  97410 non-null  int64  \n",
      " 23  negative                  97410 non-null  int64  \n",
      " 24  score_rank                44 non-null     float64\n",
      " 25  achievements              97410 non-null  int64  \n",
      " 26  recommendations           97410 non-null  int64  \n",
      " 27  notes                     15474 non-null  object \n",
      " 28  average_playtime_forever  97410 non-null  int64  \n",
      " 29  average_playtime_2weeks   97410 non-null  int64  \n",
      " 30  median_playtime_forever   97410 non-null  int64  \n",
      " 31  packages                  97410 non-null  int64  \n",
      " 32  developers                92534 non-null  object \n",
      " 33  publishers                92274 non-null  object \n",
      " 34  categories                91497 non-null  object \n",
      " 35  genres                    92569 non-null  object \n",
      " 36  tags                      67647 non-null  object \n",
      " 37  screenshots               94515 non-null  object \n",
      "dtypes: bool(3), float64(2), int64(14), object(19)\n",
      "memory usage: 27.0+ MB\n"
     ]
    }
   ],
   "source": [
    "df.info()"
   ]
  },
  {
   "cell_type": "code",
   "execution_count": 4,
   "id": "8a834dca",
   "metadata": {
    "scrolled": false
   },
   "outputs": [
    {
     "data": {
      "text/html": [
       "<div>\n",
       "<style scoped>\n",
       "    .dataframe tbody tr th:only-of-type {\n",
       "        vertical-align: middle;\n",
       "    }\n",
       "\n",
       "    .dataframe tbody tr th {\n",
       "        vertical-align: top;\n",
       "    }\n",
       "\n",
       "    .dataframe thead th {\n",
       "        text-align: right;\n",
       "    }\n",
       "</style>\n",
       "<table border=\"1\" class=\"dataframe\">\n",
       "  <thead>\n",
       "    <tr style=\"text-align: right;\">\n",
       "      <th></th>\n",
       "      <th>ID</th>\n",
       "      <th>name</th>\n",
       "      <th>release_date</th>\n",
       "      <th>estimated_owners</th>\n",
       "      <th>peak_ccu</th>\n",
       "      <th>required_age</th>\n",
       "      <th>price</th>\n",
       "      <th>dlc_count</th>\n",
       "      <th>main_description</th>\n",
       "      <th>supported_languages</th>\n",
       "      <th>...</th>\n",
       "      <th>average_playtime_forever</th>\n",
       "      <th>average_playtime_2weeks</th>\n",
       "      <th>median_playtime_forever</th>\n",
       "      <th>packages</th>\n",
       "      <th>developers</th>\n",
       "      <th>publishers</th>\n",
       "      <th>categories</th>\n",
       "      <th>genres</th>\n",
       "      <th>tags</th>\n",
       "      <th>screenshots</th>\n",
       "    </tr>\n",
       "  </thead>\n",
       "  <tbody>\n",
       "    <tr>\n",
       "      <th>1025</th>\n",
       "      <td>22380</td>\n",
       "      <td>Fallout: New Vegas</td>\n",
       "      <td>Oct 19, 2010</td>\n",
       "      <td>2000000 - 5000000</td>\n",
       "      <td>5776</td>\n",
       "      <td>16</td>\n",
       "      <td>9.99</td>\n",
       "      <td>0</td>\n",
       "      <td>Welcome to Vegas. New Vegas. It’s the kind of ...</td>\n",
       "      <td>['English', 'French', 'German', 'Italian', 'Sp...</td>\n",
       "      <td>...</td>\n",
       "      <td>3044</td>\n",
       "      <td>112</td>\n",
       "      <td>976</td>\n",
       "      <td>153</td>\n",
       "      <td>Obsidian Entertainment</td>\n",
       "      <td>Bethesda Softworks</td>\n",
       "      <td>Single-player,Steam Achievements,Partial Contr...</td>\n",
       "      <td>Action,RPG</td>\n",
       "      <td>Open World,RPG,Post-apocalyptic,Singleplayer,M...</td>\n",
       "      <td>https://cdn.akamai.steamstatic.com/steam/apps/...</td>\n",
       "    </tr>\n",
       "  </tbody>\n",
       "</table>\n",
       "<p>1 rows × 38 columns</p>\n",
       "</div>"
      ],
      "text/plain": [
       "         ID                name  release_date   estimated_owners  peak_ccu  \\\n",
       "1025  22380  Fallout: New Vegas  Oct 19, 2010  2000000 - 5000000      5776   \n",
       "\n",
       "      required_age  price  dlc_count  \\\n",
       "1025            16   9.99          0   \n",
       "\n",
       "                                       main_description  \\\n",
       "1025  Welcome to Vegas. New Vegas. It’s the kind of ...   \n",
       "\n",
       "                                    supported_languages  ...  \\\n",
       "1025  ['English', 'French', 'German', 'Italian', 'Sp...  ...   \n",
       "\n",
       "     average_playtime_forever average_playtime_2weeks median_playtime_forever  \\\n",
       "1025                     3044                     112                     976   \n",
       "\n",
       "     packages              developers          publishers  \\\n",
       "1025      153  Obsidian Entertainment  Bethesda Softworks   \n",
       "\n",
       "                                             categories      genres  \\\n",
       "1025  Single-player,Steam Achievements,Partial Contr...  Action,RPG   \n",
       "\n",
       "                                                   tags  \\\n",
       "1025  Open World,RPG,Post-apocalyptic,Singleplayer,M...   \n",
       "\n",
       "                                            screenshots  \n",
       "1025  https://cdn.akamai.steamstatic.com/steam/apps/...  \n",
       "\n",
       "[1 rows x 38 columns]"
      ]
     },
     "execution_count": 4,
     "metadata": {},
     "output_type": "execute_result"
    }
   ],
   "source": [
    "df[df['ID'] == 22380]"
   ]
  },
  {
   "cell_type": "markdown",
   "id": "d785f57c",
   "metadata": {},
   "source": [
    "### The game with ID 22380 is Fallout: New Vegas. It has a price of 9.99. The required age for this game is 16."
   ]
  },
  {
   "cell_type": "code",
   "execution_count": 5,
   "id": "f66bd0a9",
   "metadata": {},
   "outputs": [
    {
     "data": {
      "text/plain": [
       "ID                                                                       7940\n",
       "name                                         Call of Duty® 4: Modern Warfare®\n",
       "release_date                                                     Nov 12, 2007\n",
       "estimated_owners                                            1000000 - 2000000\n",
       "peak_ccu                                                                  495\n",
       "required_age                                                               17\n",
       "price                                                                    9.99\n",
       "dlc_count                                                                   0\n",
       "main_description            The new action-thriller from the award-winning...\n",
       "supported_languages         ['English', 'French', 'German', 'Italian', 'Sp...\n",
       "full_audio_languages                                                       []\n",
       "reviews                     Winner of more than 40 E3 2007 awards : Editor...\n",
       "header_image                https://cdn.akamai.steamstatic.com/steam/apps/...\n",
       "website                                     http://www.charlieoscardelta.com/\n",
       "support_url                                    http://support.activision.com/\n",
       "support_email                                                            None\n",
       "windows                                                                  True\n",
       "mac                                                                      True\n",
       "linux                                                                   False\n",
       "metacritic_score                                                           92\n",
       "metacriticURL               https://www.metacritic.com/game/pc/call-of-dut...\n",
       "user_score                                                                  0\n",
       "positive                                                                16788\n",
       "negative                                                                 1211\n",
       "score_rank                                                                NaN\n",
       "achievements                                                                0\n",
       "recommendations                                                         13997\n",
       "notes                                                                    None\n",
       "average_playtime_forever                                                 1034\n",
       "average_playtime_2weeks                                                    51\n",
       "median_playtime_forever                                                   449\n",
       "packages                                                                   51\n",
       "developers                                                      Infinity Ward\n",
       "publishers                                                         Activision\n",
       "categories                                         Single-player,Multi-player\n",
       "genres                                                                 Action\n",
       "tags                        FPS,Action,Multiplayer,Shooter,Singleplayer,Fi...\n",
       "screenshots                 https://cdn.akamai.steamstatic.com/steam/apps/...\n",
       "Name: 136, dtype: object"
      ]
     },
     "execution_count": 5,
     "metadata": {},
     "output_type": "execute_result"
    }
   ],
   "source": [
    "df.loc[136]"
   ]
  },
  {
   "cell_type": "code",
   "execution_count": 6,
   "id": "7854405e",
   "metadata": {
    "scrolled": false
   },
   "outputs": [
    {
     "data": {
      "text/plain": [
       "<AxesSubplot:xlabel='price', ylabel='metacritic_score'>"
      ]
     },
     "execution_count": 6,
     "metadata": {},
     "output_type": "execute_result"
    },
    {
     "data": {
      "image/png": "[encoded data removed]",
      "text/plain": [
       "<Figure size 640x480 with 1 Axes>"
      ]
     },
     "metadata": {},
     "output_type": "display_data"
    }
   ],
   "source": [
    "sns.scatterplot(data= df, x=\"price\", y=\"metacritic_score\")"
   ]
  },
  {
   "cell_type": "markdown",
   "id": "3c13c280",
   "metadata": {},
   "source": [
    "There are a few outliers in price, one being The Leverage Game. This game cost 999.98 dollhairs, which is way above the average which is ~7 dollars"
   ]
  },
  {
   "cell_type": "code",
   "execution_count": 8,
   "id": "5e55d7c4",
   "metadata": {},
   "outputs": [
    {
     "data": {
      "text/plain": [
       "<AxesSubplot:xlabel='price', ylabel='recommendations'>"
      ]
     },
     "execution_count": 8,
     "metadata": {},
     "output_type": "execute_result"
    },
    {
     "data": {
      "image/png": "[encoded data removed]",
      "text/plain": [
       "<Figure size 640x480 with 1 Axes>"
      ]
     },
     "metadata": {},
     "output_type": "display_data"
    }
   ],
   "source": [
    "sns.scatterplot(data= df, x=\"price\", y=\"recommendations\")"
   ]
  },
  {
   "cell_type": "markdown",
   "id": "62a28651",
   "metadata": {},
   "source": [
    "There is no relationship between price and recommendations."
   ]
  }
 ],
 "metadata": {
  "kernelspec": {
   "display_name": "Python 3 (ipykernel)",
   "language": "python",
   "name": "python3"
  },
  "language_info": {
   "codemirror_mode": {
    "name": "ipython",
    "version": 3
   },
   "file_extension": ".py",
   "mimetype": "text/x-python",
   "name": "python",
   "nbconvert_exporter": "python",
   "pygments_lexer": "ipython3",
   "version": "3.9.13"
  }
 },
 "nbformat": 4,
 "nbformat_minor": 5
}
