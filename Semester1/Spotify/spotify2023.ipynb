{
 "cells": [
  {
   "cell_type": "code",
   "execution_count": 1,
   "id": "b46c7bf3",
   "metadata": {},
   "outputs": [],
   "source": [
    "import pandas as pd\n",
    "import seaborn as sns"
   ]
  },
  {
   "cell_type": "code",
   "execution_count": 2,
   "id": "9ec182ce",
   "metadata": {},
   "outputs": [],
   "source": [
    "df = pd.read_csv('spotify2023.csv', encoding='ISO-8859-1')"
   ]
  },
  {
   "cell_type": "code",
   "execution_count": 4,
   "id": "1a591349",
   "metadata": {},
   "outputs": [
    {
     "data": {
      "text/plain": [
       "numpy.float64"
      ]
     },
     "execution_count": 4,
     "metadata": {},
     "output_type": "execute_result"
    }
   ],
   "source": [
    "df[\"streams\"] = df[\"streams\"].str.replace(',','')\n",
    "df[\"streams\"] = pd.to_numeric(df[\"streams\"], errors='coerce')\n",
    "type(df.loc[0][\"streams\"])"
   ]
  },
  {
   "cell_type": "code",
   "execution_count": 7,
   "id": "2c4b03c7",
   "metadata": {},
   "outputs": [
    {
     "data": {
      "text/plain": [
       "{'Max': 3703895074.0,\n",
       " 'Q3': 673869022.0,\n",
       " 'Median': 290530915.0,\n",
       " 'Q1': 141636175.0,\n",
       " 'Min': 2762.0}"
      ]
     },
     "execution_count": 7,
     "metadata": {},
     "output_type": "execute_result"
    }
   ],
   "source": [
    "summary = {\n",
    "    \"Max\": df[\"streams\"].max(),\n",
    "    \"Q3\": df[\"streams\"].quantile(.75),\n",
    "    \"Median\": df[\"streams\"].median(),\n",
    "    \"Q1\": df[\"streams\"].quantile(.25),\n",
    "    \"Min\": df[\"streams\"].min()\n",
    "}\n",
    "summary"
   ]
  },
  {
   "cell_type": "code",
   "execution_count": 8,
   "id": "b6c350d0",
   "metadata": {},
   "outputs": [
    {
     "data": {
      "text/plain": [
       "<AxesSubplot:xlabel='streams'>"
      ]
     },
     "execution_count": 8,
     "metadata": {},
     "output_type": "execute_result"
    },
    {
     "data": {
      "image/png": "[encoded data removed]",
      "text/plain": [
       "<Figure size 640x480 with 1 Axes>"
      ]
     },
     "metadata": {},
     "output_type": "display_data"
    }
   ],
   "source": [
    "sns.boxplot(data=df, x=\"streams\")"
   ]
  },
  {
   "cell_type": "code",
   "execution_count": null,
   "id": "f6fddcac",
   "metadata": {},
   "outputs": [],
   "source": []
  }
 ],
 "metadata": {
  "kernelspec": {
   "display_name": "Python 3 (ipykernel)",
   "language": "python",
   "name": "python3"
  },
  "language_info": {
   "codemirror_mode": {
    "name": "ipython",
    "version": 3
   },
   "file_extension": ".py",
   "mimetype": "text/x-python",
   "name": "python",
   "nbconvert_exporter": "python",
   "pygments_lexer": "ipython3",
   "version": "3.9.13"
  }
 },
 "nbformat": 4,
 "nbformat_minor": 5
}
