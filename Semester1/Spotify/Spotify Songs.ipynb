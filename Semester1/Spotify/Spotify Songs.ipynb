{
 "cells": [
  {
   "cell_type": "code",
   "execution_count": 1,
   "id": "e41a3309",
   "metadata": {},
   "outputs": [],
   "source": [
    "import pandas as pd\n",
    "import seaborn as sns\n",
    "import matplotlib.pyplot as plt\n",
    "import numpy as np"
   ]
  },
  {
   "cell_type": "code",
   "execution_count": 2,
   "id": "95bb5573",
   "metadata": {},
   "outputs": [],
   "source": [
    "df = pd.read_csv('spotify_songs.csv', encoding='ISO-8859-1')"
   ]
  },
  {
   "cell_type": "code",
   "execution_count": 3,
   "id": "7990f419",
   "metadata": {},
   "outputs": [
    {
     "data": {
      "text/plain": [
       "Index(['track_id', 'track_name', 'track_artist', 'track_popularity',\n",
       "       'track_album_id', 'track_album_name', 'track_album_release_date',\n",
       "       'playlist_name', 'playlist_id', 'playlist_genre', 'playlist_subgenre',\n",
       "       'danceability', 'energy', 'key', 'loudness', 'mode', 'speechiness',\n",
       "       'acousticness', 'instrumentalness', 'liveness', 'valence', 'tempo',\n",
       "       'duration_ms'],\n",
       "      dtype='object')"
      ]
     },
     "execution_count": 3,
     "metadata": {},
     "output_type": "execute_result"
    }
   ],
   "source": [
    "df.columns"
   ]
  },
  {
   "cell_type": "code",
   "execution_count": 4,
   "id": "67dff516",
   "metadata": {
    "scrolled": false
   },
   "outputs": [
    {
     "name": "stdout",
     "output_type": "stream",
     "text": [
      "<class 'pandas.core.frame.DataFrame'>\n",
      "RangeIndex: 32833 entries, 0 to 32832\n",
      "Data columns (total 23 columns):\n",
      " #   Column                    Non-Null Count  Dtype  \n",
      "---  ------                    --------------  -----  \n",
      " 0   track_id                  32833 non-null  object \n",
      " 1   track_name                32828 non-null  object \n",
      " 2   track_artist              32828 non-null  object \n",
      " 3   track_popularity          32833 non-null  int64  \n",
      " 4   track_album_id            32833 non-null  object \n",
      " 5   track_album_name          32828 non-null  object \n",
      " 6   track_album_release_date  32833 non-null  object \n",
      " 7   playlist_name             32833 non-null  object \n",
      " 8   playlist_id               32833 non-null  object \n",
      " 9   playlist_genre            32833 non-null  object \n",
      " 10  playlist_subgenre         32833 non-null  object \n",
      " 11  danceability              32833 non-null  float64\n",
      " 12  energy                    32833 non-null  float64\n",
      " 13  key                       32833 non-null  int64  \n",
      " 14  loudness                  32833 non-null  float64\n",
      " 15  mode                      32833 non-null  int64  \n",
      " 16  speechiness               32833 non-null  float64\n",
      " 17  acousticness              32833 non-null  float64\n",
      " 18  instrumentalness          32833 non-null  float64\n",
      " 19  liveness                  32833 non-null  float64\n",
      " 20  valence                   32833 non-null  float64\n",
      " 21  tempo                     32833 non-null  float64\n",
      " 22  duration_ms               32833 non-null  int64  \n",
      "dtypes: float64(9), int64(4), object(10)\n",
      "memory usage: 5.8+ MB\n"
     ]
    }
   ],
   "source": [
    "df.info()"
   ]
  },
  {
   "cell_type": "code",
   "execution_count": 5,
   "id": "85b82d0b",
   "metadata": {},
   "outputs": [
    {
     "data": {
      "text/plain": [
       "{'Max': 100, 'Q3': 62.0, 'Median': 45.0, 'Q1': 24.0, 'Min': 0}"
      ]
     },
     "execution_count": 5,
     "metadata": {},
     "output_type": "execute_result"
    }
   ],
   "source": [
    "summary = {\n",
    "    \"Max\": df[\"track_popularity\"].max(),\n",
    "    \"Q3\": df[\"track_popularity\"].quantile(.75),\n",
    "    \"Median\": df[\"track_popularity\"].median(),\n",
    "    \"Q1\": df[\"track_popularity\"].quantile(.25),\n",
    "    \"Min\": df[\"track_popularity\"].min()\n",
    "}\n",
    "summary"
   ]
  },
  {
   "cell_type": "code",
   "execution_count": 6,
   "id": "be96a4d6",
   "metadata": {},
   "outputs": [
    {
     "data": {
      "text/plain": [
       "<AxesSubplot:xlabel='track_popularity', ylabel='Count'>"
      ]
     },
     "execution_count": 6,
     "metadata": {},
     "output_type": "execute_result"
    },
    {
     "data": {
      "image/png": "[encoded data removed]",
      "text/plain": [
       "<Figure size 640x480 with 1 Axes>"
      ]
     },
     "metadata": {},
     "output_type": "display_data"
    }
   ],
   "source": [
    "sns.histplot(data=df, x=\"track_popularity\")"
   ]
  },
  {
   "cell_type": "code",
   "execution_count": 7,
   "id": "a4844956",
   "metadata": {},
   "outputs": [
    {
     "data": {
      "text/plain": [
       "<AxesSubplot:xlabel='track_popularity'>"
      ]
     },
     "execution_count": 7,
     "metadata": {},
     "output_type": "execute_result"
    },
    {
     "data": {
      "image/png": "[encoded data removed]",
      "text/plain": [
       "<Figure size 640x480 with 1 Axes>"
      ]
     },
     "metadata": {},
     "output_type": "display_data"
    }
   ],
   "source": [
    "sns.boxplot(data=df, x=\"track_popularity\")"
   ]
  },
  {
   "cell_type": "markdown",
   "id": "ccec1e69",
   "metadata": {},
   "source": [
    "# Track Popularity Summary\n",
    "### This data is right skewed. Has a minimum of 0 and a maximum of 100. The distribution being close to symetrical and has a bell curve. The left of the data is a lot higher than the data due to popularity of certain songs. The median of this data is 45 mainly due to the amount of zeros in this dataframe."
   ]
  },
  {
   "cell_type": "code",
   "execution_count": 8,
   "id": "500b1515",
   "metadata": {},
   "outputs": [],
   "source": [
    "def avg(col):\n",
    "    average = col.mean()\n",
    "    return average"
   ]
  },
  {
   "cell_type": "code",
   "execution_count": 9,
   "id": "ead99588",
   "metadata": {},
   "outputs": [
    {
     "data": {
      "text/plain": [
       "120.88113154448297"
      ]
     },
     "execution_count": 9,
     "metadata": {},
     "output_type": "execute_result"
    }
   ],
   "source": [
    "avg(df[\"tempo\"])"
   ]
  },
  {
   "cell_type": "code",
   "execution_count": 15,
   "id": "d7e6a716",
   "metadata": {},
   "outputs": [],
   "source": [
    "def stand(column):\n",
    "    std = df[column].std()\n",
    "    stand = df[\"danceability\"]\n",
    "    return stand\n",
    "standan = stand(\"danceability\")"
   ]
  },
  {
   "cell_type": "code",
   "execution_count": 11,
   "id": "89e151a1",
   "metadata": {},
   "outputs": [
    {
     "data": {
      "text/plain": [
       "<AxesSubplot:xlabel='danceability', ylabel='Count'>"
      ]
     },
     "execution_count": 11,
     "metadata": {},
     "output_type": "execute_result"
    },
    {
     "data": {
      "image/png": "[encoded data removed]",
      "text/plain": [
       "<Figure size 640x480 with 1 Axes>"
      ]
     },
     "metadata": {},
     "output_type": "display_data"
    }
   ],
   "source": [
    "sns.histplot(data=df, x=\"danceability\")"
   ]
  },
  {
   "cell_type": "code",
   "execution_count": 12,
   "id": "60fc23b3",
   "metadata": {},
   "outputs": [],
   "source": [
    "avdan=df[\"danceability\"].mean()"
   ]
  },
  {
   "cell_type": "code",
   "execution_count": 16,
   "id": "daf7cad9",
   "metadata": {
    "scrolled": false
   },
   "outputs": [
    {
     "name": "stdout",
     "output_type": "stream",
     "text": [
      "A majority of songs fall within 0        1.40285\n",
      "1        1.38085\n",
      "2        1.32985\n",
      "3        1.37285\n",
      "4        1.30485\n",
      "          ...   \n",
      "32828    1.08285\n",
      "32829    1.17685\n",
      "32830    1.18385\n",
      "32831    1.28085\n",
      "32832    1.25785\n",
      "Name: danceability, Length: 32833, dtype: float64 and 0       -0.09315\n",
      "1       -0.07115\n",
      "2       -0.02015\n",
      "3       -0.06315\n",
      "4        0.00485\n",
      "          ...   \n",
      "32828    0.22685\n",
      "32829    0.13285\n",
      "32830    0.12585\n",
      "32831    0.02885\n",
      "32832    0.05185\n",
      "Name: danceability, Length: 32833, dtype: float64\n"
     ]
    }
   ],
   "source": [
    "print(\"A majority of songs fall within\", (avdan+standan), \"and\", (avdan-standan))"
   ]
  },
  {
   "cell_type": "code",
   "execution_count": 28,
   "id": "8713e4d3",
   "metadata": {},
   "outputs": [
    {
     "data": {
      "text/plain": [
       "track_id                                               2XU0oxnq2qxCpomAAuJY8K\n",
       "track_name                                                       Dance Monkey\n",
       "track_artist                                                      Tones and I\n",
       "track_popularity                                                          100\n",
       "track_album_id                                         0UywfDKYlyiu1b38DRrzYD\n",
       "track_album_name                  Dance Monkey (Stripped Back) / Dance Monkey\n",
       "track_album_release_date                                           2019-10-17\n",
       "playlist_name               post-teen alternative, indie, pop (large variety)\n",
       "playlist_id                                            1y42gwI5cuwjBslPyQNfqb\n",
       "playlist_genre                                                            pop\n",
       "playlist_subgenre                                               post-teen pop\n",
       "danceability                                                            0.824\n",
       "energy                                                                  0.588\n",
       "key                                                                         6\n",
       "loudness                                                                 -6.4\n",
       "mode                                                                        0\n",
       "speechiness                                                            0.0924\n",
       "acousticness                                                            0.692\n",
       "instrumentalness                                                     0.000104\n",
       "liveness                                                                0.149\n",
       "valence                                                                 0.513\n",
       "tempo                                                                  98.027\n",
       "duration_ms                                                            209438\n",
       "Name: 1551, dtype: object"
      ]
     },
     "execution_count": 28,
     "metadata": {},
     "output_type": "execute_result"
    }
   ],
   "source": [
    "idx = 0\n",
    "for song in df[\"track_popularity\"]:\n",
    "    if song < 100:\n",
    "        idx += 1\n",
    "    elif song == 100:\n",
    "        break\n",
    "df.loc[idx]"
   ]
  },
  {
   "cell_type": "markdown",
   "id": "4728297f",
   "metadata": {},
   "source": [
    "# Analyzation of Dance Monkey by Tones and I\n",
    "### This song has a track popularity of 100 and I find that pretty impressive no other songs in this data set have a score of 100. This song genres are post-teen alternative, indie, and pop. "
   ]
  },
  {
   "cell_type": "markdown",
   "id": "3caec350",
   "metadata": {},
   "source": [
    "# what is the standard deviation of the songs energy?"
   ]
  },
  {
   "cell_type": "code",
   "execution_count": 29,
   "id": "4ad3e3e2",
   "metadata": {},
   "outputs": [
    {
     "data": {
      "text/plain": [
       "{'Max': 100, 'Q3': 62.0, 'Median': 45.0, 'Q1': 24.0, 'Min': 0}"
      ]
     },
     "execution_count": 29,
     "metadata": {},
     "output_type": "execute_result"
    }
   ],
   "source": [
    "summary1 = {\n",
    "    \"Max\": df[\"energy\"].max(),\n",
    "    \"Q3\": df[\"energy\"].quantile(.75),\n",
    "    \"Median\": df[\"energy\"].median(),\n",
    "    \"Q1\": df[\"energy\"].quantile(.25),\n",
    "    \"Min\": df[\"energy\"].min()\n",
    "}\n",
    "summary"
   ]
  },
  {
   "cell_type": "code",
   "execution_count": 31,
   "id": "d65e4703",
   "metadata": {},
   "outputs": [
    {
     "data": {
      "text/plain": [
       "<AxesSubplot:xlabel='energy', ylabel='Count'>"
      ]
     },
     "execution_count": 31,
     "metadata": {},
     "output_type": "execute_result"
    },
    {
     "data": {
      "image/png": "[encoded data removed]",
      "text/plain": [
       "<Figure size 640x480 with 1 Axes>"
      ]
     },
     "metadata": {},
     "output_type": "display_data"
    }
   ],
   "source": [
    "sns.histplot(data=df, x=\"energy\")"
   ]
  },
  {
   "cell_type": "code",
   "execution_count": 40,
   "id": "2bff0773",
   "metadata": {},
   "outputs": [
    {
     "data": {
      "text/plain": [
       "0.18091003391959035"
      ]
     },
     "execution_count": 40,
     "metadata": {},
     "output_type": "execute_result"
    }
   ],
   "source": [
    "def stand(column):\n",
    "    std = df[column].std()\n",
    "    stand = std\n",
    "    return stand\n",
    "staneng = stand(\"energy\")\n",
    "staneng"
   ]
  },
  {
   "cell_type": "code",
   "execution_count": 41,
   "id": "744ac03f",
   "metadata": {},
   "outputs": [
    {
     "data": {
      "text/plain": [
       "'0.879529304622851'"
      ]
     },
     "execution_count": 41,
     "metadata": {},
     "output_type": "execute_result"
    }
   ],
   "source": [
    "aveng=df[\"energy\"].mean()\n",
    "\n",
    "up = str((aveng+staneng))\n",
    "down = str((aveng-staneng))\n",
    "up"
   ]
  },
  {
   "cell_type": "code",
   "execution_count": 43,
   "id": "ead7241d",
   "metadata": {},
   "outputs": [
    {
     "name": "stdout",
     "output_type": "stream",
     "text": [
      "0.6986192707032606\n"
     ]
    }
   ],
   "source": [
    "print(df[\"energy\"].mean())"
   ]
  },
  {
   "cell_type": "code",
   "execution_count": 42,
   "id": "5ff2e1d4",
   "metadata": {},
   "outputs": [
    {
     "name": "stdout",
     "output_type": "stream",
     "text": [
      "A majority of songs fall within 0.879529304622851 and 0.5177092367836702\n"
     ]
    }
   ],
   "source": [
    "print(\"A majority of songs fall within\", up, \"and\", down)"
   ]
  },
  {
   "cell_type": "markdown",
   "id": "9801f8e7",
   "metadata": {},
   "source": [
    "# Energy Analyzing \n",
    "### The data is left skewed. Most of the data falls within 0.879 and 0.517.  The average of all this data is 0.698."
   ]
  },
  {
   "cell_type": "code",
   "execution_count": null,
   "id": "99ab2876",
   "metadata": {},
   "outputs": [],
   "source": []
  }
 ],
 "metadata": {
  "kernelspec": {
   "display_name": "Python 3 (ipykernel)",
   "language": "python",
   "name": "python3"
  },
  "language_info": {
   "codemirror_mode": {
    "name": "ipython",
    "version": 3
   },
   "file_extension": ".py",
   "mimetype": "text/x-python",
   "name": "python",
   "nbconvert_exporter": "python",
   "pygments_lexer": "ipython3",
   "version": "3.9.13"
  }
 },
 "nbformat": 4,
 "nbformat_minor": 5
}
