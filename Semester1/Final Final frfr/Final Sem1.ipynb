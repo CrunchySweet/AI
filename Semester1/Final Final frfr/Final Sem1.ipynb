{
 "cells": [
  {
   "cell_type": "markdown",
   "id": "e72e548d",
   "metadata": {},
   "source": [
    "# Choose a Data Set\n",
    "\n",
    "You can choose to analyze any data that you would like! Remember, you need 1000 rows of non-null data in order to get 5 points for the \"Data\" criteria of my [rubric](https://docs.google.com/document/d/1s3wllcF3LLnytxwD8mZ-BCypXKnfaahnizWGNojT-B4/edit?usp=sharing). Consider looking at [Kaggle](https://www.kaggle.com/datasets) or [free APIs](https://free-apis.github.io/#/browse) for datasets of this size. Alternatively, you can scrape the web to make your own dataset! :D\n",
    "\n",
    "Once you have chosen your dataset, please read your data into a dataframe and call `.info()` below. If you don't call `info` I will give you 0 points for the first criteria described on the [rubric](https://docs.google.com/document/d/1s3wllcF3LLnytxwD8mZ-BCypXKnfaahnizWGNojT-B4/edit?usp=sharing)."
   ]
  },
  {
   "cell_type": "code",
   "execution_count": 21,
   "id": "d71eb2fa",
   "metadata": {},
   "outputs": [
    {
     "data": {
      "text/plain": [
       "Index(['#', 'Name', 'Variation', 'Type1', 'Type2', 'Total', 'HP', 'Attack',\n",
       "       'Defense', 'Sp. Atk', 'Sp. Def', 'Speed'],\n",
       "      dtype='object')"
      ]
     },
     "execution_count": 21,
     "metadata": {},
     "output_type": "execute_result"
    }
   ],
   "source": [
    "import pandas as pd\n",
    "import seaborn as sns\n",
    "import numpy as np\n",
    "df = pd.read_csv('PokemonDB.csv')\n",
    "df.columns"
   ]
  },
  {
   "cell_type": "code",
   "execution_count": 22,
   "id": "1bd6f050",
   "metadata": {},
   "outputs": [],
   "source": [
    "df = df.fillna('None')"
   ]
  },
  {
   "cell_type": "code",
   "execution_count": 23,
   "id": "7432c017",
   "metadata": {
    "scrolled": false
   },
   "outputs": [
    {
     "name": "stdout",
     "output_type": "stream",
     "text": [
      "<class 'pandas.core.frame.DataFrame'>\n",
      "RangeIndex: 1190 entries, 0 to 1189\n",
      "Data columns (total 12 columns):\n",
      " #   Column     Non-Null Count  Dtype \n",
      "---  ------     --------------  ----- \n",
      " 0   #          1190 non-null   int64 \n",
      " 1   Name       1190 non-null   object\n",
      " 2   Variation  1190 non-null   object\n",
      " 3   Type1      1190 non-null   object\n",
      " 4   Type2      1190 non-null   object\n",
      " 5   Total      1190 non-null   int64 \n",
      " 6   HP         1190 non-null   int64 \n",
      " 7   Attack     1190 non-null   int64 \n",
      " 8   Defense    1190 non-null   int64 \n",
      " 9   Sp. Atk    1190 non-null   int64 \n",
      " 10  Sp. Def    1190 non-null   int64 \n",
      " 11  Speed      1190 non-null   int64 \n",
      "dtypes: int64(8), object(4)\n",
      "memory usage: 111.7+ KB\n"
     ]
    }
   ],
   "source": [
    "df.info()"
   ]
  },
  {
   "cell_type": "code",
   "execution_count": 24,
   "id": "ec39c03a",
   "metadata": {
    "scrolled": false
   },
   "outputs": [
    {
     "data": {
      "text/html": [
       "<div>\n",
       "<style scoped>\n",
       "    .dataframe tbody tr th:only-of-type {\n",
       "        vertical-align: middle;\n",
       "    }\n",
       "\n",
       "    .dataframe tbody tr th {\n",
       "        vertical-align: top;\n",
       "    }\n",
       "\n",
       "    .dataframe thead th {\n",
       "        text-align: right;\n",
       "    }\n",
       "</style>\n",
       "<table border=\"1\" class=\"dataframe\">\n",
       "  <thead>\n",
       "    <tr style=\"text-align: right;\">\n",
       "      <th></th>\n",
       "      <th>#</th>\n",
       "      <th>Name</th>\n",
       "      <th>Variation</th>\n",
       "      <th>Type1</th>\n",
       "      <th>Type2</th>\n",
       "      <th>Total</th>\n",
       "      <th>HP</th>\n",
       "      <th>Attack</th>\n",
       "      <th>Defense</th>\n",
       "      <th>Sp. Atk</th>\n",
       "      <th>Sp. Def</th>\n",
       "      <th>Speed</th>\n",
       "    </tr>\n",
       "  </thead>\n",
       "  <tbody>\n",
       "    <tr>\n",
       "      <th>0</th>\n",
       "      <td>1</td>\n",
       "      <td>Bulbasaur</td>\n",
       "      <td>None</td>\n",
       "      <td>Grass</td>\n",
       "      <td>Poison</td>\n",
       "      <td>318</td>\n",
       "      <td>45</td>\n",
       "      <td>49</td>\n",
       "      <td>49</td>\n",
       "      <td>65</td>\n",
       "      <td>65</td>\n",
       "      <td>45</td>\n",
       "    </tr>\n",
       "    <tr>\n",
       "      <th>1</th>\n",
       "      <td>2</td>\n",
       "      <td>Ivysaur</td>\n",
       "      <td>None</td>\n",
       "      <td>Grass</td>\n",
       "      <td>Poison</td>\n",
       "      <td>405</td>\n",
       "      <td>60</td>\n",
       "      <td>62</td>\n",
       "      <td>63</td>\n",
       "      <td>80</td>\n",
       "      <td>80</td>\n",
       "      <td>60</td>\n",
       "    </tr>\n",
       "    <tr>\n",
       "      <th>2</th>\n",
       "      <td>3</td>\n",
       "      <td>Venusaur</td>\n",
       "      <td>None</td>\n",
       "      <td>Grass</td>\n",
       "      <td>Poison</td>\n",
       "      <td>525</td>\n",
       "      <td>80</td>\n",
       "      <td>82</td>\n",
       "      <td>83</td>\n",
       "      <td>100</td>\n",
       "      <td>100</td>\n",
       "      <td>80</td>\n",
       "    </tr>\n",
       "    <tr>\n",
       "      <th>3</th>\n",
       "      <td>3</td>\n",
       "      <td>Venusaur</td>\n",
       "      <td>Mega Venusaur</td>\n",
       "      <td>Grass</td>\n",
       "      <td>Poison</td>\n",
       "      <td>625</td>\n",
       "      <td>80</td>\n",
       "      <td>100</td>\n",
       "      <td>123</td>\n",
       "      <td>122</td>\n",
       "      <td>120</td>\n",
       "      <td>80</td>\n",
       "    </tr>\n",
       "    <tr>\n",
       "      <th>4</th>\n",
       "      <td>4</td>\n",
       "      <td>Charmander</td>\n",
       "      <td>None</td>\n",
       "      <td>Fire</td>\n",
       "      <td>None</td>\n",
       "      <td>309</td>\n",
       "      <td>39</td>\n",
       "      <td>52</td>\n",
       "      <td>43</td>\n",
       "      <td>60</td>\n",
       "      <td>50</td>\n",
       "      <td>65</td>\n",
       "    </tr>\n",
       "  </tbody>\n",
       "</table>\n",
       "</div>"
      ],
      "text/plain": [
       "   #        Name      Variation  Type1   Type2  Total  HP  Attack  Defense  \\\n",
       "0  1   Bulbasaur           None  Grass  Poison    318  45      49       49   \n",
       "1  2     Ivysaur           None  Grass  Poison    405  60      62       63   \n",
       "2  3    Venusaur           None  Grass  Poison    525  80      82       83   \n",
       "3  3    Venusaur  Mega Venusaur  Grass  Poison    625  80     100      123   \n",
       "4  4  Charmander           None   Fire    None    309  39      52       43   \n",
       "\n",
       "   Sp. Atk  Sp. Def  Speed  \n",
       "0       65       65     45  \n",
       "1       80       80     60  \n",
       "2      100      100     80  \n",
       "3      122      120     80  \n",
       "4       60       50     65  "
      ]
     },
     "execution_count": 24,
     "metadata": {},
     "output_type": "execute_result"
    }
   ],
   "source": [
    "df.head()"
   ]
  },
  {
   "cell_type": "markdown",
   "id": "109e5f57",
   "metadata": {},
   "source": [
    "# My Question"
   ]
  },
  {
   "cell_type": "markdown",
   "id": "94af0ecd",
   "metadata": {},
   "source": [
    "### What is the Standard Deviation of HP? And, given this, how impressive is Regigigas?"
   ]
  },
  {
   "cell_type": "markdown",
   "id": "9070cec5",
   "metadata": {},
   "source": [
    "# My Analysis"
   ]
  },
  {
   "cell_type": "code",
   "execution_count": 32,
   "id": "1fbfebe3",
   "metadata": {},
   "outputs": [
    {
     "data": {
      "text/plain": [
       "#                  486\n",
       "Name         Regigigas\n",
       "Variation         None\n",
       "Type1           Normal\n",
       "Type2             None\n",
       "Total              670\n",
       "HP                 110\n",
       "Attack             160\n",
       "Defense            110\n",
       "Sp. Atk             80\n",
       "Sp. Def            110\n",
       "Speed              100\n",
       "Name: 596, dtype: object"
      ]
     },
     "execution_count": 32,
     "metadata": {},
     "output_type": "execute_result"
    }
   ],
   "source": [
    "df.loc[596]"
   ]
  },
  {
   "cell_type": "markdown",
   "id": "706f734e",
   "metadata": {},
   "source": [
    " ### This is the pokemon im trying to solve for."
   ]
  },
  {
   "cell_type": "code",
   "execution_count": 40,
   "id": "1f1efc8c",
   "metadata": {},
   "outputs": [
    {
     "name": "stdout",
     "output_type": "stream",
     "text": [
      "The Average of HP = 70.8529411764706\n",
      "Standard Deviation of HP = 26.88644257870807\n"
     ]
    },
    {
     "data": {
      "image/png": "[encoded data removed]",
      "text/plain": [
       "<Figure size 640x480 with 1 Axes>"
      ]
     },
     "metadata": {},
     "output_type": "display_data"
    }
   ],
   "source": [
    "sns.histplot(df,x='HP',bins=50)\n",
    "def dev(column):\n",
    "    return column.std()\n",
    "stdHP = dev(df[\"HP\"])\n",
    "avgHP = df[\"HP\"].mean()\n",
    "print (\"The Average of HP =\",avgHP)\n",
    "print(\"Standard Deviation of HP =\",stdHP)"
   ]
  },
  {
   "cell_type": "markdown",
   "id": "9abee4ca",
   "metadata": {},
   "source": [
    "## This is the graph of all the pokemons HP."
   ]
  },
  {
   "cell_type": "code",
   "execution_count": 41,
   "id": "a43a66d2",
   "metadata": {},
   "outputs": [
    {
     "name": "stdout",
     "output_type": "stream",
     "text": [
      "Most of the data lands between 43.966498597762524 and 97.73938375517866\n"
     ]
    }
   ],
   "source": [
    "lHP = avgHP - stdHP\n",
    "uHP = avgHP + stdHP\n",
    "print(\"Most of the data lands between\", lHP, \"and\", uHP)"
   ]
  },
  {
   "cell_type": "markdown",
   "id": "00bf2183",
   "metadata": {},
   "source": [
    "### Subtracting and adding the standard deviation to the average to find where most of the data lands."
   ]
  },
  {
   "cell_type": "code",
   "execution_count": 42,
   "id": "a6b7de93",
   "metadata": {},
   "outputs": [
    {
     "name": "stdout",
     "output_type": "stream",
     "text": [
      "The pokemon's HP score = 1.4560148189530575\n"
     ]
    }
   ],
   "source": [
    "idx = 0\n",
    "for pokemon in df[\"Name\"]:\n",
    "    if \"Regigigas\" in pokemon:\n",
    "        break\n",
    "    idx += 1\n",
    "HPScore = ((df.loc[idx]['HP']) - avgHP) / stdHP \n",
    "print( \"The pokemon's HP score =\", HPScore)"
   ]
  },
  {
   "cell_type": "markdown",
   "id": "cc9df293",
   "metadata": {},
   "source": [
    "### The code here allows you to plug in any pokemon name and finds its Z-score for HP."
   ]
  },
  {
   "cell_type": "code",
   "execution_count": 45,
   "id": "82532064",
   "metadata": {},
   "outputs": [
    {
     "name": "stdout",
     "output_type": "stream",
     "text": [
      "In range of Regigigas: 163\n",
      "All pokemon: 1149\n"
     ]
    }
   ],
   "source": [
    "UpperHP = 0\n",
    "AllHP = 0\n",
    "for pokemon in df['HP']:\n",
    "    if pokemon >= 94.793 and pokemon <= 120.326:\n",
    "        UpperHP += 1\n",
    "        AllHP +=1\n",
    "    elif pokemon <= 94.793:\n",
    "        AllHP += 1\n",
    "    elif pokemon >= 120.326:\n",
    "        AllHP\n",
    "        \n",
    "print(\"In range of Regigigas:\",UpperHP)\n",
    "print(\"All pokemon:\",AllHP)"
   ]
  },
  {
   "cell_type": "markdown",
   "id": "a8be1cfb",
   "metadata": {},
   "source": [
    "### Shows how many more pokemon are in that range with Regigigas."
   ]
  },
  {
   "cell_type": "markdown",
   "id": "b5a374a3",
   "metadata": {},
   "source": [
    "# My Answer"
   ]
  },
  {
   "cell_type": "markdown",
   "id": "2cadbfec",
   "metadata": {},
   "source": [
    "***The Standard Deviation of HP is 25.534. This means that most of the data landed 25.534 HP from the average. The average being 69.258 HP, meaning that the data landed between 43.724 HP to 94.792 HP. Regigigas is pretty impressive compared to the data with a Z-score of 1.595. The reason this score is impressive is because its outside the range of where most data is landing Z-score shows how many deviations its above the average. So this means Regigigas is 1.595 deviations above the mean putting them in this range of 94.793 HP to 120.326 HP. Which is impressive since only 99 other pokemon out of 776 are in that range some are higher.***"
   ]
  }
 ],
 "metadata": {
  "kernelspec": {
   "display_name": "Python 3 (ipykernel)",
   "language": "python",
   "name": "python3"
  },
  "language_info": {
   "codemirror_mode": {
    "name": "ipython",
    "version": 3
   },
   "file_extension": ".py",
   "mimetype": "text/x-python",
   "name": "python",
   "nbconvert_exporter": "python",
   "pygments_lexer": "ipython3",
   "version": "3.9.13"
  }
 },
 "nbformat": 4,
 "nbformat_minor": 5
}
