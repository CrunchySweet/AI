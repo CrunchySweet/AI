{
 "cells": [
  {
   "cell_type": "code",
   "execution_count": 139,
   "id": "2e4876d0",
   "metadata": {},
   "outputs": [],
   "source": [
    "import pandas as pd \n",
    "import seaborn as sns\n",
    "import numpy as np\n",
    "import requests\n",
    "import matplotlib.pyplot as plt"
   ]
  },
  {
   "cell_type": "code",
   "execution_count": 77,
   "id": "5de04c38",
   "metadata": {},
   "outputs": [],
   "source": [
    "df = pd.read_json('gme.json')\n",
    "df2 = pd.read_json('recentGME.json')\n",
    "amc = pd.read_csv('AMC.csv')\n",
    "wsb = pd.read_json('light_encode_wsb.json')"
   ]
  },
  {
   "cell_type": "code",
   "execution_count": 3,
   "id": "2d85d125",
   "metadata": {},
   "outputs": [
    {
     "name": "stdout",
     "output_type": "stream",
     "text": [
      "{'status': 'OK', 'from': '2024-05-14', 'symbol': 'GME', 'open': 64.83, 'high': 64.83, 'low': 36, 'close': 48.75, 'volume': 206973629.0, 'afterHours': 51, 'preMarket': 40.31}\n"
     ]
    }
   ],
   "source": [
    "#WRVYEKR822BPE8OX\n",
    "\n",
    "url = 'https://api.polygon.io/v1/open-close/GME/2024-05-14?adjusted=true&apiKey=HhkUAUN3cv5eXiqIZXhWZ4l3JZCsvlBF'\n",
    "r = requests.get(url)\n",
    "data = r.json()\n",
    "\n",
    "print(data)"
   ]
  },
  {
   "cell_type": "code",
   "execution_count": 26,
   "id": "a98abed6",
   "metadata": {},
   "outputs": [],
   "source": [
    "def gather_data(start, end):\n",
    "    startMonth = pd.to_datetime(start).day\n",
    "    endMonth = pd.to_datetime(end).day\n",
    "    data = {'Date': [],\"Open\": [],'High': [],'Low': [],'Close': [],'Volume': []}\n",
    "    current = start\n",
    "    for month in range(startMonth, endMonth + 1):\n",
    "        for day in range(1, 26):\n",
    "            url = 'https://api.polygon.io/v1/open-close/GME/' + current + '?adjusted=true&apiKey=HhkUAUN3cv5eXiqIZXhWZ4l3JZCsvlBF'\n",
    "            r = requests.get(url)\n",
    "            jsonData = r.json()\n",
    "            data['Open'].append(jsonData['open'])\n",
    "            data['High'].append(jsonData['high'])\n",
    "            data['Low'].append(jsonData['low'])\n",
    "            data['Close'].append(jsonData['close'])\n",
    "            data['Volume'].append(jsonData['volume'])\n",
    "            if day < 10:\n",
    "                date = pd.to_datetime('2024' + str(month) + str(day))\n",
    "                data['Date'].append(date)\n",
    "                current = '2024-' + '0' + str(month) + '0' + str(day)\n",
    "            else:\n",
    "                date = pd.to_datetime('2024' + str(month) + str(day))\n",
    "                data['Date'].append(date)\n",
    "                current = '2024-' + '0' + str(month) + str(day)\n",
    "                \n",
    "    return pd.DataFrame(data)"
   ]
  },
  {
   "cell_type": "code",
   "execution_count": 28,
   "id": "db11625e",
   "metadata": {},
   "outputs": [],
   "source": [
    "##gather_data('2024-05-14', '2024-09-26')"
   ]
  },
  {
   "cell_type": "code",
   "execution_count": null,
   "id": "3a931dff",
   "metadata": {},
   "outputs": [],
   "source": [
    "df.info()"
   ]
  },
  {
   "cell_type": "code",
   "execution_count": 6,
   "id": "250e2454",
   "metadata": {},
   "outputs": [
    {
     "data": {
      "text/plain": [
       "Index(['Date', 'Open', 'High', 'Low', 'Close', 'Adj Close', 'Volume'], dtype='object')"
      ]
     },
     "execution_count": 6,
     "metadata": {},
     "output_type": "execute_result"
    }
   ],
   "source": [
    "df.columns"
   ]
  },
  {
   "cell_type": "code",
   "execution_count": 7,
   "id": "650186be",
   "metadata": {},
   "outputs": [
    {
     "data": {
      "text/plain": [
       "120.75"
      ]
     },
     "execution_count": 7,
     "metadata": {},
     "output_type": "execute_result"
    }
   ],
   "source": [
    "df['High'].max()"
   ]
  },
  {
   "cell_type": "code",
   "execution_count": 8,
   "id": "567c69c0",
   "metadata": {
    "scrolled": false
   },
   "outputs": [
    {
     "data": {
      "text/html": [
       "<div>\n",
       "<style scoped>\n",
       "    .dataframe tbody tr th:only-of-type {\n",
       "        vertical-align: middle;\n",
       "    }\n",
       "\n",
       "    .dataframe tbody tr th {\n",
       "        vertical-align: top;\n",
       "    }\n",
       "\n",
       "    .dataframe thead th {\n",
       "        text-align: right;\n",
       "    }\n",
       "</style>\n",
       "<table border=\"1\" class=\"dataframe\">\n",
       "  <thead>\n",
       "    <tr style=\"text-align: right;\">\n",
       "      <th></th>\n",
       "      <th>Date</th>\n",
       "      <th>Open</th>\n",
       "      <th>High</th>\n",
       "      <th>Low</th>\n",
       "      <th>Close</th>\n",
       "      <th>Adj Close</th>\n",
       "      <th>Volume</th>\n",
       "    </tr>\n",
       "  </thead>\n",
       "  <tbody>\n",
       "    <tr>\n",
       "      <th>4772</th>\n",
       "      <td>2021-01-28</td>\n",
       "      <td>66.25</td>\n",
       "      <td>120.75</td>\n",
       "      <td>28.0625</td>\n",
       "      <td>48.400002</td>\n",
       "      <td>48.400002</td>\n",
       "      <td>235263200</td>\n",
       "    </tr>\n",
       "  </tbody>\n",
       "</table>\n",
       "</div>"
      ],
      "text/plain": [
       "           Date   Open    High      Low      Close  Adj Close     Volume\n",
       "4772 2021-01-28  66.25  120.75  28.0625  48.400002  48.400002  235263200"
      ]
     },
     "execution_count": 8,
     "metadata": {},
     "output_type": "execute_result"
    }
   ],
   "source": [
    "df[df['High']==120.75]"
   ]
  },
  {
   "cell_type": "code",
   "execution_count": 9,
   "id": "f2fcc30e",
   "metadata": {},
   "outputs": [
    {
     "data": {
      "text/plain": [
       "10.193287575692963"
      ]
     },
     "execution_count": 9,
     "metadata": {},
     "output_type": "execute_result"
    }
   ],
   "source": [
    "count = 0\n",
    "total = 0\n",
    "for i in range(len(df)):\n",
    "    if df.loc[i]['Date'].month == 6:\n",
    "        avg = (df.loc[i]['High']+ df.loc[i]['Low'])/2\n",
    "        total += avg\n",
    "        count += 1\n",
    "total/count"
   ]
  },
  {
   "cell_type": "code",
   "execution_count": 10,
   "id": "97c85a0e",
   "metadata": {},
   "outputs": [
    {
     "data": {
      "text/plain": [
       "<AxesSubplot:xlabel='Volume', ylabel='Low'>"
      ]
     },
     "execution_count": 10,
     "metadata": {},
     "output_type": "execute_result"
    },
    {
     "data": {
      "image/png": "[encoded data removed]",
      "text/plain": [
       "<Figure size 640x480 with 1 Axes>"
      ]
     },
     "metadata": {},
     "output_type": "display_data"
    }
   ],
   "source": [
    "sns.scatterplot(data = df, x='Volume', y = 'Low')"
   ]
  },
  {
   "cell_type": "code",
   "execution_count": 11,
   "id": "c0f38bd2",
   "metadata": {},
   "outputs": [
    {
     "data": {
      "text/plain": [
       "0.10259646883179026"
      ]
     },
     "execution_count": 11,
     "metadata": {},
     "output_type": "execute_result"
    }
   ],
   "source": [
    "df[\"Low\"].corr(df['Volume'])"
   ]
  },
  {
   "cell_type": "markdown",
   "id": "26721685",
   "metadata": {},
   "source": [
    "In this data the direction is negative. This is a very very weak negative relationship between these varibles. I calculated the Pearsono correlation coefficient and it is 0.1 proving that this was a weak relationship. "
   ]
  },
  {
   "cell_type": "code",
   "execution_count": 12,
   "id": "20f5e22d",
   "metadata": {
    "scrolled": false
   },
   "outputs": [
    {
     "data": {
      "text/plain": [
       "<AxesSubplot:xlabel='Date', ylabel='High'>"
      ]
     },
     "execution_count": 12,
     "metadata": {},
     "output_type": "execute_result"
    },
    {
     "data": {
      "image/png": "[encoded data removed]",
      "text/plain": [
       "<Figure size 640x480 with 1 Axes>"
      ]
     },
     "metadata": {},
     "output_type": "display_data"
    }
   ],
   "source": [
    "sns.lineplot(data = df, x='Date', y = 'High')"
   ]
  },
  {
   "cell_type": "code",
   "execution_count": 13,
   "id": "3bf0a0c6",
   "metadata": {},
   "outputs": [],
   "source": [
    "##log_high = np.log(df['High'])"
   ]
  },
  {
   "cell_type": "code",
   "execution_count": 14,
   "id": "8f61c749",
   "metadata": {},
   "outputs": [],
   "source": [
    "##df['Log High'] = log_high"
   ]
  },
  {
   "cell_type": "code",
   "execution_count": 15,
   "id": "983a30eb",
   "metadata": {},
   "outputs": [],
   "source": [
    "##df['numeric_time'] = pd.to_datetime(df['Date']).astype('int64') // 10**9\n",
    "\n",
    "##correlation = df['numeric_time'].corr(df['Log High'])"
   ]
  },
  {
   "cell_type": "code",
   "execution_count": 16,
   "id": "e4827619",
   "metadata": {},
   "outputs": [],
   "source": [
    "##correlation"
   ]
  },
  {
   "cell_type": "markdown",
   "id": "8f17f32f",
   "metadata": {},
   "source": [
    "The form of this graph is exponetial."
   ]
  },
  {
   "cell_type": "code",
   "execution_count": 17,
   "id": "9a93a6a6",
   "metadata": {},
   "outputs": [
    {
     "data": {
      "text/plain": [
       "Timestamp('2024-05-13 00:00:00')"
      ]
     },
     "execution_count": 17,
     "metadata": {},
     "output_type": "execute_result"
    }
   ],
   "source": [
    "df[\"Date\"].max()"
   ]
  },
  {
   "cell_type": "code",
   "execution_count": 18,
   "id": "ce27e8f9",
   "metadata": {},
   "outputs": [
    {
     "data": {
      "text/plain": [
       "Timestamp('2002-02-13 00:00:00')"
      ]
     },
     "execution_count": 18,
     "metadata": {},
     "output_type": "execute_result"
    }
   ],
   "source": [
    "df[\"Date\"].min()"
   ]
  },
  {
   "cell_type": "code",
   "execution_count": 19,
   "id": "4a710448",
   "metadata": {},
   "outputs": [
    {
     "data": {
      "text/plain": [
       "250.36363636363637"
      ]
     },
     "execution_count": 19,
     "metadata": {},
     "output_type": "execute_result"
    }
   ],
   "source": [
    "count = 0\n",
    "total = 0\n",
    "for i in range(len(df)):\n",
    "    if df.loc[i]['Date'].year < 2024:\n",
    "        count += 1\n",
    "count/22"
   ]
  },
  {
   "cell_type": "code",
   "execution_count": 20,
   "id": "16397b10",
   "metadata": {
    "scrolled": true
   },
   "outputs": [],
   "source": [
    "df.drop(['Adj Close'],inplace = True, axis=1)"
   ]
  },
  {
   "cell_type": "code",
   "execution_count": 21,
   "id": "16d96399",
   "metadata": {},
   "outputs": [
    {
     "name": "stdout",
     "output_type": "stream",
     "text": [
      "<class 'pandas.core.frame.DataFrame'>\n",
      "RangeIndex: 5600 entries, 0 to 5599\n",
      "Data columns (total 6 columns):\n",
      " #   Column  Non-Null Count  Dtype         \n",
      "---  ------  --------------  -----         \n",
      " 0   Date    5600 non-null   datetime64[ns]\n",
      " 1   Open    5600 non-null   float64       \n",
      " 2   High    5600 non-null   float64       \n",
      " 3   Low     5600 non-null   float64       \n",
      " 4   Close   5600 non-null   float64       \n",
      " 5   Volume  5600 non-null   int64         \n",
      "dtypes: datetime64[ns](1), float64(4), int64(1)\n",
      "memory usage: 262.6 KB\n"
     ]
    }
   ],
   "source": [
    "df.info()"
   ]
  },
  {
   "cell_type": "code",
   "execution_count": 22,
   "id": "59d56090",
   "metadata": {},
   "outputs": [
    {
     "name": "stdout",
     "output_type": "stream",
     "text": [
      "<class 'pandas.core.frame.DataFrame'>\n",
      "RangeIndex: 94 entries, 0 to 93\n",
      "Data columns (total 6 columns):\n",
      " #   Column  Non-Null Count  Dtype         \n",
      "---  ------  --------------  -----         \n",
      " 0   Date    94 non-null     datetime64[ns]\n",
      " 1   Open    94 non-null     float64       \n",
      " 2   High    94 non-null     float64       \n",
      " 3   Low     94 non-null     float64       \n",
      " 4   Close   94 non-null     float64       \n",
      " 5   Volume  94 non-null     int64         \n",
      "dtypes: datetime64[ns](1), float64(4), int64(1)\n",
      "memory usage: 4.5 KB\n"
     ]
    }
   ],
   "source": [
    "df2.info()"
   ]
  },
  {
   "cell_type": "code",
   "execution_count": 23,
   "id": "2b3bda69",
   "metadata": {},
   "outputs": [],
   "source": [
    "result = pd.concat([df, df2])"
   ]
  },
  {
   "cell_type": "code",
   "execution_count": 24,
   "id": "6a7f0163",
   "metadata": {},
   "outputs": [],
   "source": [
    "result.reset_index(inplace=True)"
   ]
  },
  {
   "cell_type": "code",
   "execution_count": 25,
   "id": "e2179b66",
   "metadata": {},
   "outputs": [
    {
     "data": {
      "text/html": [
       "<div>\n",
       "<style scoped>\n",
       "    .dataframe tbody tr th:only-of-type {\n",
       "        vertical-align: middle;\n",
       "    }\n",
       "\n",
       "    .dataframe tbody tr th {\n",
       "        vertical-align: top;\n",
       "    }\n",
       "\n",
       "    .dataframe thead th {\n",
       "        text-align: right;\n",
       "    }\n",
       "</style>\n",
       "<table border=\"1\" class=\"dataframe\">\n",
       "  <thead>\n",
       "    <tr style=\"text-align: right;\">\n",
       "      <th></th>\n",
       "      <th>index</th>\n",
       "      <th>Date</th>\n",
       "      <th>Open</th>\n",
       "      <th>High</th>\n",
       "      <th>Low</th>\n",
       "      <th>Close</th>\n",
       "      <th>Volume</th>\n",
       "    </tr>\n",
       "  </thead>\n",
       "  <tbody>\n",
       "    <tr>\n",
       "      <th>5689</th>\n",
       "      <td>89</td>\n",
       "      <td>2024-09-20</td>\n",
       "      <td>19.63</td>\n",
       "      <td>22.03</td>\n",
       "      <td>19.4820</td>\n",
       "      <td>21.85</td>\n",
       "      <td>60804837</td>\n",
       "    </tr>\n",
       "    <tr>\n",
       "      <th>5690</th>\n",
       "      <td>90</td>\n",
       "      <td>2024-09-23</td>\n",
       "      <td>21.54</td>\n",
       "      <td>22.56</td>\n",
       "      <td>21.2301</td>\n",
       "      <td>22.31</td>\n",
       "      <td>13945783</td>\n",
       "    </tr>\n",
       "    <tr>\n",
       "      <th>5691</th>\n",
       "      <td>91</td>\n",
       "      <td>2024-09-24</td>\n",
       "      <td>22.61</td>\n",
       "      <td>22.72</td>\n",
       "      <td>21.5400</td>\n",
       "      <td>22.63</td>\n",
       "      <td>12112487</td>\n",
       "    </tr>\n",
       "    <tr>\n",
       "      <th>5692</th>\n",
       "      <td>92</td>\n",
       "      <td>2024-09-25</td>\n",
       "      <td>22.16</td>\n",
       "      <td>22.83</td>\n",
       "      <td>22.0650</td>\n",
       "      <td>22.18</td>\n",
       "      <td>6137420</td>\n",
       "    </tr>\n",
       "    <tr>\n",
       "      <th>5693</th>\n",
       "      <td>93</td>\n",
       "      <td>2024-09-26</td>\n",
       "      <td>22.40</td>\n",
       "      <td>22.64</td>\n",
       "      <td>21.8700</td>\n",
       "      <td>22.29</td>\n",
       "      <td>5771976</td>\n",
       "    </tr>\n",
       "  </tbody>\n",
       "</table>\n",
       "</div>"
      ],
      "text/plain": [
       "      index       Date   Open   High      Low  Close    Volume\n",
       "5689     89 2024-09-20  19.63  22.03  19.4820  21.85  60804837\n",
       "5690     90 2024-09-23  21.54  22.56  21.2301  22.31  13945783\n",
       "5691     91 2024-09-24  22.61  22.72  21.5400  22.63  12112487\n",
       "5692     92 2024-09-25  22.16  22.83  22.0650  22.18   6137420\n",
       "5693     93 2024-09-26  22.40  22.64  21.8700  22.29   5771976"
      ]
     },
     "execution_count": 25,
     "metadata": {},
     "output_type": "execute_result"
    }
   ],
   "source": [
    "result.tail()"
   ]
  },
  {
   "cell_type": "code",
   "execution_count": 122,
   "id": "c0863f73",
   "metadata": {},
   "outputs": [],
   "source": [
    "df.drop(['Adj Close'],inplace = True, axis=1)"
   ]
  },
  {
   "cell_type": "code",
   "execution_count": 60,
   "id": "6dbf0ec2",
   "metadata": {},
   "outputs": [
    {
     "name": "stdout",
     "output_type": "stream",
     "text": [
      "<class 'pandas.core.frame.DataFrame'>\n",
      "RangeIndex: 2081 entries, 0 to 2080\n",
      "Data columns (total 6 columns):\n",
      " #   Column  Non-Null Count  Dtype         \n",
      "---  ------  --------------  -----         \n",
      " 0   Date    2081 non-null   datetime64[ns]\n",
      " 1   Open    2081 non-null   float64       \n",
      " 2   High    2081 non-null   float64       \n",
      " 3   Low     2081 non-null   float64       \n",
      " 4   Close   2081 non-null   float64       \n",
      " 5   Volume  2081 non-null   int64         \n",
      "dtypes: datetime64[ns](1), float64(4), int64(1)\n",
      "memory usage: 97.7 KB\n"
     ]
    }
   ],
   "source": [
    "amc.info()"
   ]
  },
  {
   "cell_type": "code",
   "execution_count": 104,
   "id": "4c235873",
   "metadata": {},
   "outputs": [],
   "source": [
    "amc['Date']= pd.to_datetime(amc['Date'])"
   ]
  },
  {
   "cell_type": "code",
   "execution_count": 76,
   "id": "c80cfbd4",
   "metadata": {},
   "outputs": [
    {
     "data": {
      "text/plain": [
       "<AxesSubplot:title={'center':'Comparing GME and AMC stocks over time'}, xlabel='Date', ylabel='High'>"
      ]
     },
     "execution_count": 76,
     "metadata": {},
     "output_type": "execute_result"
    },
    {
     "data": {
      "image/png": "[encoded data removed]",
      "text/plain": [
       "<Figure size 640x480 with 1 Axes>"
      ]
     },
     "metadata": {},
     "output_type": "display_data"
    }
   ],
   "source": [
    "sns.lineplot(data = df, x='Date', y = 'High', hue=3).set_title('Comparing GME and AMC stocks over time')\n",
    "sns.scatterplot(data = amc, x='Date', y = 'High', hue=1)"
   ]
  },
  {
   "cell_type": "code",
   "execution_count": 78,
   "id": "41346ef2",
   "metadata": {},
   "outputs": [
    {
     "name": "stdout",
     "output_type": "stream",
     "text": [
      "<class 'pandas.core.frame.DataFrame'>\n",
      "Int64Index: 500 entries, 0 to 499\n",
      "Data columns (total 4 columns):\n",
      " #   Column     Non-Null Count  Dtype         \n",
      "---  ------     --------------  -----         \n",
      " 0   label      500 non-null    object        \n",
      " 1   timestamp  500 non-null    datetime64[ns]\n",
      " 2   score      500 non-null    int64         \n",
      " 3   comms_num  500 non-null    int64         \n",
      "dtypes: datetime64[ns](1), int64(2), object(1)\n",
      "memory usage: 19.5+ KB\n"
     ]
    }
   ],
   "source": [
    "wsb.info()"
   ]
  },
  {
   "cell_type": "code",
   "execution_count": 79,
   "id": "97f76cbe",
   "metadata": {},
   "outputs": [
    {
     "data": {
      "text/html": [
       "<div>\n",
       "<style scoped>\n",
       "    .dataframe tbody tr th:only-of-type {\n",
       "        vertical-align: middle;\n",
       "    }\n",
       "\n",
       "    .dataframe tbody tr th {\n",
       "        vertical-align: top;\n",
       "    }\n",
       "\n",
       "    .dataframe thead th {\n",
       "        text-align: right;\n",
       "    }\n",
       "</style>\n",
       "<table border=\"1\" class=\"dataframe\">\n",
       "  <thead>\n",
       "    <tr style=\"text-align: right;\">\n",
       "      <th></th>\n",
       "      <th>label</th>\n",
       "      <th>timestamp</th>\n",
       "      <th>score</th>\n",
       "      <th>comms_num</th>\n",
       "    </tr>\n",
       "  </thead>\n",
       "  <tbody>\n",
       "    <tr>\n",
       "      <th>0</th>\n",
       "      <td>AMC</td>\n",
       "      <td>2021-01-28</td>\n",
       "      <td>38408</td>\n",
       "      <td>6027</td>\n",
       "    </tr>\n",
       "    <tr>\n",
       "      <th>1</th>\n",
       "      <td>AMC</td>\n",
       "      <td>2021-01-29</td>\n",
       "      <td>22404</td>\n",
       "      <td>7023</td>\n",
       "    </tr>\n",
       "    <tr>\n",
       "      <th>2</th>\n",
       "      <td>AMC</td>\n",
       "      <td>2021-01-30</td>\n",
       "      <td>66084</td>\n",
       "      <td>11660</td>\n",
       "    </tr>\n",
       "    <tr>\n",
       "      <th>3</th>\n",
       "      <td>AMC</td>\n",
       "      <td>2021-01-31</td>\n",
       "      <td>54180</td>\n",
       "      <td>6934</td>\n",
       "    </tr>\n",
       "    <tr>\n",
       "      <th>4</th>\n",
       "      <td>AMC</td>\n",
       "      <td>2021-02-01</td>\n",
       "      <td>122882</td>\n",
       "      <td>8710</td>\n",
       "    </tr>\n",
       "  </tbody>\n",
       "</table>\n",
       "</div>"
      ],
      "text/plain": [
       "  label  timestamp   score  comms_num\n",
       "0   AMC 2021-01-28   38408       6027\n",
       "1   AMC 2021-01-29   22404       7023\n",
       "2   AMC 2021-01-30   66084      11660\n",
       "3   AMC 2021-01-31   54180       6934\n",
       "4   AMC 2021-02-01  122882       8710"
      ]
     },
     "execution_count": 79,
     "metadata": {},
     "output_type": "execute_result"
    }
   ],
   "source": [
    "wsb.head()"
   ]
  },
  {
   "cell_type": "code",
   "execution_count": 100,
   "id": "0720e472",
   "metadata": {},
   "outputs": [],
   "source": [
    "amc_wsb = wsb[wsb['label']=='AMC']"
   ]
  },
  {
   "cell_type": "code",
   "execution_count": 118,
   "id": "6a51baf7",
   "metadata": {},
   "outputs": [],
   "source": [
    "gme_wsb = wsb[wsb['label']=='GME']"
   ]
  },
  {
   "cell_type": "code",
   "execution_count": 97,
   "id": "27b6fd3e",
   "metadata": {
    "scrolled": true
   },
   "outputs": [],
   "source": [
    "wsb.rename(columns = {'timestamp':\"Date\"}, inplace= True)"
   ]
  },
  {
   "cell_type": "code",
   "execution_count": 108,
   "id": "7f68d998",
   "metadata": {},
   "outputs": [],
   "source": [
    "AMC_merged = pd.merge(amc, amc_wsb,how = 'inner', on ='Date' )"
   ]
  },
  {
   "cell_type": "code",
   "execution_count": 124,
   "id": "8fbf7ff9",
   "metadata": {},
   "outputs": [],
   "source": [
    "GME_merged = pd.merge(df, gme_wsb,how = 'inner', on ='Date' )"
   ]
  },
  {
   "cell_type": "code",
   "execution_count": 125,
   "id": "0ef583a6",
   "metadata": {},
   "outputs": [
    {
     "data": {
      "text/html": [
       "<div>\n",
       "<style scoped>\n",
       "    .dataframe tbody tr th:only-of-type {\n",
       "        vertical-align: middle;\n",
       "    }\n",
       "\n",
       "    .dataframe tbody tr th {\n",
       "        vertical-align: top;\n",
       "    }\n",
       "\n",
       "    .dataframe thead th {\n",
       "        text-align: right;\n",
       "    }\n",
       "</style>\n",
       "<table border=\"1\" class=\"dataframe\">\n",
       "  <thead>\n",
       "    <tr style=\"text-align: right;\">\n",
       "      <th></th>\n",
       "      <th>Date</th>\n",
       "      <th>Open</th>\n",
       "      <th>High</th>\n",
       "      <th>Low</th>\n",
       "      <th>Close</th>\n",
       "      <th>Volume</th>\n",
       "      <th>label</th>\n",
       "      <th>score</th>\n",
       "      <th>comms_num</th>\n",
       "    </tr>\n",
       "  </thead>\n",
       "  <tbody>\n",
       "    <tr>\n",
       "      <th>0</th>\n",
       "      <td>2021-01-28</td>\n",
       "      <td>66.250000</td>\n",
       "      <td>120.750000</td>\n",
       "      <td>28.0625</td>\n",
       "      <td>48.400002</td>\n",
       "      <td>235263200</td>\n",
       "      <td>GME</td>\n",
       "      <td>268078</td>\n",
       "      <td>26332</td>\n",
       "    </tr>\n",
       "    <tr>\n",
       "      <th>1</th>\n",
       "      <td>2021-01-29</td>\n",
       "      <td>94.927498</td>\n",
       "      <td>103.495003</td>\n",
       "      <td>62.5000</td>\n",
       "      <td>81.250000</td>\n",
       "      <td>202264400</td>\n",
       "      <td>GME</td>\n",
       "      <td>1285976</td>\n",
       "      <td>277238</td>\n",
       "    </tr>\n",
       "    <tr>\n",
       "      <th>2</th>\n",
       "      <td>2021-02-01</td>\n",
       "      <td>79.139999</td>\n",
       "      <td>80.500000</td>\n",
       "      <td>53.0000</td>\n",
       "      <td>56.250000</td>\n",
       "      <td>149528800</td>\n",
       "      <td>GME</td>\n",
       "      <td>1125454</td>\n",
       "      <td>165514</td>\n",
       "    </tr>\n",
       "    <tr>\n",
       "      <th>3</th>\n",
       "      <td>2021-02-02</td>\n",
       "      <td>35.189999</td>\n",
       "      <td>39.500000</td>\n",
       "      <td>18.5550</td>\n",
       "      <td>22.500000</td>\n",
       "      <td>312732400</td>\n",
       "      <td>GME</td>\n",
       "      <td>489902</td>\n",
       "      <td>82138</td>\n",
       "    </tr>\n",
       "    <tr>\n",
       "      <th>4</th>\n",
       "      <td>2021-02-03</td>\n",
       "      <td>28.002501</td>\n",
       "      <td>28.350000</td>\n",
       "      <td>21.3125</td>\n",
       "      <td>23.102501</td>\n",
       "      <td>170794000</td>\n",
       "      <td>GME</td>\n",
       "      <td>768288</td>\n",
       "      <td>189625</td>\n",
       "    </tr>\n",
       "  </tbody>\n",
       "</table>\n",
       "</div>"
      ],
      "text/plain": [
       "        Date       Open        High      Low      Close     Volume label  \\\n",
       "0 2021-01-28  66.250000  120.750000  28.0625  48.400002  235263200   GME   \n",
       "1 2021-01-29  94.927498  103.495003  62.5000  81.250000  202264400   GME   \n",
       "2 2021-02-01  79.139999   80.500000  53.0000  56.250000  149528800   GME   \n",
       "3 2021-02-02  35.189999   39.500000  18.5550  22.500000  312732400   GME   \n",
       "4 2021-02-03  28.002501   28.350000  21.3125  23.102501  170794000   GME   \n",
       "\n",
       "     score  comms_num  \n",
       "0   268078      26332  \n",
       "1  1285976     277238  \n",
       "2  1125454     165514  \n",
       "3   489902      82138  \n",
       "4   768288     189625  "
      ]
     },
     "execution_count": 125,
     "metadata": {},
     "output_type": "execute_result"
    }
   ],
   "source": [
    "GME_merged.head()"
   ]
  },
  {
   "cell_type": "code",
   "execution_count": 110,
   "id": "3c39f7de",
   "metadata": {},
   "outputs": [
    {
     "data": {
      "text/html": [
       "<div>\n",
       "<style scoped>\n",
       "    .dataframe tbody tr th:only-of-type {\n",
       "        vertical-align: middle;\n",
       "    }\n",
       "\n",
       "    .dataframe tbody tr th {\n",
       "        vertical-align: top;\n",
       "    }\n",
       "\n",
       "    .dataframe thead th {\n",
       "        text-align: right;\n",
       "    }\n",
       "</style>\n",
       "<table border=\"1\" class=\"dataframe\">\n",
       "  <thead>\n",
       "    <tr style=\"text-align: right;\">\n",
       "      <th></th>\n",
       "      <th>Date</th>\n",
       "      <th>Open</th>\n",
       "      <th>High</th>\n",
       "      <th>Low</th>\n",
       "      <th>Close</th>\n",
       "      <th>Volume</th>\n",
       "      <th>label</th>\n",
       "      <th>score</th>\n",
       "      <th>comms_num</th>\n",
       "    </tr>\n",
       "  </thead>\n",
       "  <tbody>\n",
       "    <tr>\n",
       "      <th>0</th>\n",
       "      <td>2021-01-28</td>\n",
       "      <td>11.98</td>\n",
       "      <td>16.50</td>\n",
       "      <td>6.51</td>\n",
       "      <td>8.63</td>\n",
       "      <td>591223900</td>\n",
       "      <td>AMC</td>\n",
       "      <td>38408</td>\n",
       "      <td>6027</td>\n",
       "    </tr>\n",
       "    <tr>\n",
       "      <th>1</th>\n",
       "      <td>2021-01-29</td>\n",
       "      <td>14.31</td>\n",
       "      <td>16.00</td>\n",
       "      <td>11.60</td>\n",
       "      <td>13.26</td>\n",
       "      <td>602193300</td>\n",
       "      <td>AMC</td>\n",
       "      <td>22404</td>\n",
       "      <td>7023</td>\n",
       "    </tr>\n",
       "    <tr>\n",
       "      <th>2</th>\n",
       "      <td>2021-02-01</td>\n",
       "      <td>17.00</td>\n",
       "      <td>17.25</td>\n",
       "      <td>12.91</td>\n",
       "      <td>13.30</td>\n",
       "      <td>434608000</td>\n",
       "      <td>AMC</td>\n",
       "      <td>122882</td>\n",
       "      <td>8710</td>\n",
       "    </tr>\n",
       "    <tr>\n",
       "      <th>3</th>\n",
       "      <td>2021-02-02</td>\n",
       "      <td>9.48</td>\n",
       "      <td>10.10</td>\n",
       "      <td>6.00</td>\n",
       "      <td>7.82</td>\n",
       "      <td>462775900</td>\n",
       "      <td>AMC</td>\n",
       "      <td>16928</td>\n",
       "      <td>3338</td>\n",
       "    </tr>\n",
       "    <tr>\n",
       "      <th>4</th>\n",
       "      <td>2021-02-03</td>\n",
       "      <td>8.85</td>\n",
       "      <td>9.77</td>\n",
       "      <td>7.89</td>\n",
       "      <td>8.97</td>\n",
       "      <td>221405100</td>\n",
       "      <td>AMC</td>\n",
       "      <td>97207</td>\n",
       "      <td>7629</td>\n",
       "    </tr>\n",
       "  </tbody>\n",
       "</table>\n",
       "</div>"
      ],
      "text/plain": [
       "        Date   Open   High    Low  Close     Volume label   score  comms_num\n",
       "0 2021-01-28  11.98  16.50   6.51   8.63  591223900   AMC   38408       6027\n",
       "1 2021-01-29  14.31  16.00  11.60  13.26  602193300   AMC   22404       7023\n",
       "2 2021-02-01  17.00  17.25  12.91  13.30  434608000   AMC  122882       8710\n",
       "3 2021-02-02   9.48  10.10   6.00   7.82  462775900   AMC   16928       3338\n",
       "4 2021-02-03   8.85   9.77   7.89   8.97  221405100   AMC   97207       7629"
      ]
     },
     "execution_count": 110,
     "metadata": {},
     "output_type": "execute_result"
    }
   ],
   "source": [
    "AMC_merged.head()"
   ]
  },
  {
   "cell_type": "code",
   "execution_count": 142,
   "id": "ab9d9451",
   "metadata": {},
   "outputs": [
    {
     "data": {
      "image/png": "[encoded data removed]",
      "text/plain": [
       "<Figure size 640x480 with 2 Axes>"
      ]
     },
     "metadata": {},
     "output_type": "display_data"
    }
   ],
   "source": [
    "ax1 = sns.scatterplot(data = AMC_merged, x='Date', y = 'High')\n",
    "ax2 = ax1.twinx()\n",
    "sns.scatterplot(data = AMC_merged, x='Date', y = log_comms, color = 'purple')\n",
    "\n",
    "ax1.set_ylabel('High AMC')\n",
    "ax2.set_ylabel('Num of Comments on WSB (log)')\n",
    "plt.title('WSB Comments vs. Price of AMC stocks')\n",
    "\n",
    "plt.show()"
   ]
  },
  {
   "cell_type": "code",
   "execution_count": 129,
   "id": "f3f14e31",
   "metadata": {},
   "outputs": [],
   "source": [
    "log_comms = np.log(AMC_merged['comms_num'])\n",
    "log_high = np.log(AMC_merged['High'])"
   ]
  },
  {
   "cell_type": "code",
   "execution_count": 138,
   "id": "6460d122",
   "metadata": {},
   "outputs": [
    {
     "data": {
      "text/plain": [
       "<AxesSubplot:xlabel='Date', ylabel='High'>"
      ]
     },
     "execution_count": 138,
     "metadata": {},
     "output_type": "execute_result"
    },
    {
     "data": {
      "image/png": "[encoded data removed]",
      "text/plain": [
       "<Figure size 640x480 with 1 Axes>"
      ]
     },
     "metadata": {},
     "output_type": "display_data"
    }
   ],
   "source": [
    "sns.scatterplot(data = AMC_merged, x='Date', y = 'High')\n",
    "sns.scatterplot(data = AMC_merged, x='Date', y = log_comms)"
   ]
  },
  {
   "cell_type": "markdown",
   "id": "11140be8",
   "metadata": {},
   "source": [
    "### The orange is the comments and the blue is the price."
   ]
  },
  {
   "cell_type": "code",
   "execution_count": 131,
   "id": "70d47b01",
   "metadata": {},
   "outputs": [],
   "source": [
    "log_high2 = np.log(GME_merged['High'])\n",
    "log_comms2 = np.log(GME_merged['comms_num'])"
   ]
  },
  {
   "cell_type": "code",
   "execution_count": null,
   "id": "6438d7e0",
   "metadata": {},
   "outputs": [],
   "source": []
  }
 ],
 "metadata": {
  "kernelspec": {
   "display_name": "Python 3 (ipykernel)",
   "language": "python",
   "name": "python3"
  },
  "language_info": {
   "codemirror_mode": {
    "name": "ipython",
    "version": 3
   },
   "file_extension": ".py",
   "mimetype": "text/x-python",
   "name": "python",
   "nbconvert_exporter": "python",
   "pygments_lexer": "ipython3",
   "version": "3.9.13"
  }
 },
 "nbformat": 4,
 "nbformat_minor": 5
}
