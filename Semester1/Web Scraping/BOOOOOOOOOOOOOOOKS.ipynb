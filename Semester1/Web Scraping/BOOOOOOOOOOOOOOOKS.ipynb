{
 "cells": [
  {
   "cell_type": "code",
   "execution_count": 21,
   "id": "d7f0012f",
   "metadata": {},
   "outputs": [],
   "source": [
    "import requests\n",
    "from bs4 import BeautifulSoup\n",
    "import random\n",
    "import pandas as pd"
   ]
  },
  {
   "cell_type": "code",
   "execution_count": 22,
   "id": "2a3ae4cc",
   "metadata": {},
   "outputs": [],
   "source": [
    "url = \"https://openlibrary.org/trending/forever\"\n",
    "response =requests.get(url)\n",
    "html_con = response.text\n",
    "soup = BeautifulSoup(html_con, 'html.parser')"
   ]
  },
  {
   "cell_type": "code",
   "execution_count": 243,
   "id": "96059e32",
   "metadata": {},
   "outputs": [],
   "source": [
    "uls = soup.find_all(\"h3\",{\"class\":\"booktitle\"})\n",
    "Books ={\"Book\":[]}\n",
    "for a in uls:\n",
    "    Book = a.get_text()\n",
    "    Book = Book.strip()\n",
    "    Books[\"Book\"].append(Book)"
   ]
  },
  {
   "cell_type": "code",
   "execution_count": 244,
   "id": "5f26bf7f",
   "metadata": {},
   "outputs": [],
   "source": [
    "auths = soup.find_all(\"span\",{\"class\":\"bookauthor\"})\n",
    "Authors = {\"Author\":[]}\n",
    "for a in auths:\n",
    "    auth = a.get_text()\n",
    "    auth = auth.strip()\n",
    "    result = auth.split(\"by\")\n",
    "    just_auth = result[1]\n",
    "    Authors[\"Author\"].append(just_auth)"
   ]
  },
  {
   "cell_type": "code",
   "execution_count": 246,
   "id": "7048110d",
   "metadata": {},
   "outputs": [],
   "source": [
    "year = soup.find_all(\"span\",{\"class\":\"resultDetails\"})\n",
    "years = {\"Year\":[]}\n",
    "for a in year:\n",
    "    year = a.get_text()\n",
    "    year = year.strip()\n",
    "    result = year.split()\n",
    "    just_year = result[3]\n",
    "    just_year = int(just_year)\n",
    "    years[\"Year\"].append(just_year)"
   ]
  },
  {
   "cell_type": "code",
   "execution_count": 248,
   "id": "d8daa1f2",
   "metadata": {},
   "outputs": [],
   "source": [
    "log = soup.find_all(\"div\", {\"class\":\"details\"})\n",
    "logs ={\"Logs\":[]}\n",
    "for a in log:\n",
    "    log = a.get_text()\n",
    "    log = log.strip()\n",
    "    result = log.split(\"Logged\")\n",
    "    result = result[1].split(\"times\")\n",
    "    result = result[0]\n",
    "    result = int(result)\n",
    "    logs[\"Logs\"].append(result)"
   ]
  },
  {
   "cell_type": "code",
   "execution_count": 249,
   "id": "65e8c45d",
   "metadata": {},
   "outputs": [],
   "source": [
    "df = pd.DataFrame(Books)"
   ]
  },
  {
   "cell_type": "code",
   "execution_count": 250,
   "id": "c361b025",
   "metadata": {},
   "outputs": [],
   "source": [
    "df2 = pd.DataFrame(Authors)"
   ]
  },
  {
   "cell_type": "code",
   "execution_count": 251,
   "id": "a041fbb6",
   "metadata": {},
   "outputs": [],
   "source": [
    "df3 = pd.DataFrame(years)"
   ]
  },
  {
   "cell_type": "code",
   "execution_count": 252,
   "id": "38dc9bd3",
   "metadata": {},
   "outputs": [],
   "source": [
    "df4 = pd.DataFrame(logs)"
   ]
  },
  {
   "cell_type": "code",
   "execution_count": 253,
   "id": "855b0780",
   "metadata": {},
   "outputs": [
    {
     "data": {
      "text/html": [
       "<div>\n",
       "<style scoped>\n",
       "    .dataframe tbody tr th:only-of-type {\n",
       "        vertical-align: middle;\n",
       "    }\n",
       "\n",
       "    .dataframe tbody tr th {\n",
       "        vertical-align: top;\n",
       "    }\n",
       "\n",
       "    .dataframe thead th {\n",
       "        text-align: right;\n",
       "    }\n",
       "</style>\n",
       "<table border=\"1\" class=\"dataframe\">\n",
       "  <thead>\n",
       "    <tr style=\"text-align: right;\">\n",
       "      <th></th>\n",
       "      <th>Logs</th>\n",
       "    </tr>\n",
       "  </thead>\n",
       "  <tbody>\n",
       "    <tr>\n",
       "      <th>0</th>\n",
       "      <td>41180</td>\n",
       "    </tr>\n",
       "    <tr>\n",
       "      <th>1</th>\n",
       "      <td>40566</td>\n",
       "    </tr>\n",
       "    <tr>\n",
       "      <th>2</th>\n",
       "      <td>34986</td>\n",
       "    </tr>\n",
       "    <tr>\n",
       "      <th>3</th>\n",
       "      <td>30182</td>\n",
       "    </tr>\n",
       "    <tr>\n",
       "      <th>4</th>\n",
       "      <td>23272</td>\n",
       "    </tr>\n",
       "  </tbody>\n",
       "</table>\n",
       "</div>"
      ],
      "text/plain": [
       "    Logs\n",
       "0  41180\n",
       "1  40566\n",
       "2  34986\n",
       "3  30182\n",
       "4  23272"
      ]
     },
     "execution_count": 253,
     "metadata": {},
     "output_type": "execute_result"
    }
   ],
   "source": [
    "df4.head()"
   ]
  },
  {
   "cell_type": "code",
   "execution_count": 254,
   "id": "41de51af",
   "metadata": {},
   "outputs": [],
   "source": [
    "All = pd.merge(df, df2, left_index=True, right_index=True)"
   ]
  },
  {
   "cell_type": "code",
   "execution_count": 255,
   "id": "9c29e230",
   "metadata": {},
   "outputs": [],
   "source": [
    "All = pd.merge(All, df3, left_index=True, right_index=True)"
   ]
  },
  {
   "cell_type": "code",
   "execution_count": 256,
   "id": "de30aa52",
   "metadata": {},
   "outputs": [],
   "source": [
    "All = pd.merge(All, df4, left_index=True, right_index=True)"
   ]
  },
  {
   "cell_type": "code",
   "execution_count": 257,
   "id": "36fd00fa",
   "metadata": {},
   "outputs": [
    {
     "data": {
      "text/html": [
       "<div>\n",
       "<style scoped>\n",
       "    .dataframe tbody tr th:only-of-type {\n",
       "        vertical-align: middle;\n",
       "    }\n",
       "\n",
       "    .dataframe tbody tr th {\n",
       "        vertical-align: top;\n",
       "    }\n",
       "\n",
       "    .dataframe thead th {\n",
       "        text-align: right;\n",
       "    }\n",
       "</style>\n",
       "<table border=\"1\" class=\"dataframe\">\n",
       "  <thead>\n",
       "    <tr style=\"text-align: right;\">\n",
       "      <th></th>\n",
       "      <th>Book</th>\n",
       "      <th>Author</th>\n",
       "      <th>Year</th>\n",
       "      <th>Logs</th>\n",
       "    </tr>\n",
       "  </thead>\n",
       "  <tbody>\n",
       "    <tr>\n",
       "      <th>0</th>\n",
       "      <td>Atomic Habits</td>\n",
       "      <td>James Clear</td>\n",
       "      <td>2016</td>\n",
       "      <td>41180</td>\n",
       "    </tr>\n",
       "    <tr>\n",
       "      <th>1</th>\n",
       "      <td>It Ends With Us</td>\n",
       "      <td>Colleen Hoover</td>\n",
       "      <td>2012</td>\n",
       "      <td>40566</td>\n",
       "    </tr>\n",
       "    <tr>\n",
       "      <th>2</th>\n",
       "      <td>The 48 Laws of Power</td>\n",
       "      <td>Robert Greene and Joost Elffers</td>\n",
       "      <td>1998</td>\n",
       "      <td>34986</td>\n",
       "    </tr>\n",
       "    <tr>\n",
       "      <th>3</th>\n",
       "      <td>The Subtle Art of Not Giving a F*ck</td>\n",
       "      <td>Mark Manson</td>\n",
       "      <td>2016</td>\n",
       "      <td>30182</td>\n",
       "    </tr>\n",
       "    <tr>\n",
       "      <th>4</th>\n",
       "      <td>Um casamento arranjado</td>\n",
       "      <td>Zana Kheiron</td>\n",
       "      <td>2019</td>\n",
       "      <td>23272</td>\n",
       "    </tr>\n",
       "  </tbody>\n",
       "</table>\n",
       "</div>"
      ],
      "text/plain": [
       "                                  Book                            Author  \\\n",
       "0                        Atomic Habits                       James Clear   \n",
       "1                      It Ends With Us                    Colleen Hoover   \n",
       "2                 The 48 Laws of Power   Robert Greene and Joost Elffers   \n",
       "3  The Subtle Art of Not Giving a F*ck                       Mark Manson   \n",
       "4               Um casamento arranjado                      Zana Kheiron   \n",
       "\n",
       "   Year   Logs  \n",
       "0  2016  41180  \n",
       "1  2012  40566  \n",
       "2  1998  34986  \n",
       "3  2016  30182  \n",
       "4  2019  23272  "
      ]
     },
     "execution_count": 257,
     "metadata": {},
     "output_type": "execute_result"
    }
   ],
   "source": [
    "All.head()"
   ]
  },
  {
   "cell_type": "code",
   "execution_count": null,
   "id": "66985a9f",
   "metadata": {},
   "outputs": [],
   "source": []
  }
 ],
 "metadata": {
  "kernelspec": {
   "display_name": "Python 3 (ipykernel)",
   "language": "python",
   "name": "python3"
  },
  "language_info": {
   "codemirror_mode": {
    "name": "ipython",
    "version": 3
   },
   "file_extension": ".py",
   "mimetype": "text/x-python",
   "name": "python",
   "nbconvert_exporter": "python",
   "pygments_lexer": "ipython3",
   "version": "3.9.13"
  }
 },
 "nbformat": 4,
 "nbformat_minor": 5
}
