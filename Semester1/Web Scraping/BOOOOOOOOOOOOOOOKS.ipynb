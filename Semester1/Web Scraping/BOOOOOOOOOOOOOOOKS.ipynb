{
 "cells": [
  {
   "cell_type": "code",
   "execution_count": 21,
   "id": "1d5bdf16",
   "metadata": {},
   "outputs": [],
   "source": [
    "import requests\n",
    "from bs4 import BeautifulSoup\n",
    "import random\n",
    "import pandas as pd"
   ]
  },
  {
   "cell_type": "code",
   "execution_count": 22,
   "id": "002f72ed",
   "metadata": {},
   "outputs": [],
   "source": [
    "url = \"https://openlibrary.org/trending/forever\"\n",
    "response =requests.get(url)\n",
    "html_con = response.text\n",
    "soup = BeautifulSoup(html_con, 'html.parser')"
   ]
  },
  {
   "cell_type": "code",
   "execution_count": 183,
   "id": "7654f4e2",
   "metadata": {},
   "outputs": [],
   "source": [
    "uls = soup.find_all(\"h3\",{\"class\":\"booktitle\"})\n",
    "Books = []\n",
    "for a in uls:\n",
    "    Book = a.get_text()\n",
    "    Book = Book.strip()\n",
    "    Books.append(Book)"
   ]
  },
  {
   "cell_type": "code",
   "execution_count": 155,
   "id": "6bec217e",
   "metadata": {},
   "outputs": [],
   "source": [
    "auths = soup.find_all(\"span\",{\"class\":\"bookauthor\"})\n",
    "Authors = []\n",
    "for a in auths:\n",
    "    auth = a.get_text()\n",
    "    auth = auth.strip()\n",
    "    result = auth.split(\"by\")\n",
    "    just_auth = result[1]\n",
    "    Authors.append(just_auth)"
   ]
  },
  {
   "cell_type": "code",
   "execution_count": 156,
   "id": "3c168f82",
   "metadata": {},
   "outputs": [],
   "source": [
    "year = soup.find_all(\"span\",{\"class\":\"resultDetails\"})\n",
    "years = []\n",
    "for a in year:\n",
    "    year = a.get_text()\n",
    "    year = year.strip()\n",
    "    result = year.split()\n",
    "    just_year = result[3]\n",
    "    just_year = int(just_year)\n",
    "    years.append(just_year)"
   ]
  },
  {
   "cell_type": "code",
   "execution_count": 157,
   "id": "0b4e54ff",
   "metadata": {},
   "outputs": [],
   "source": [
    "log = soup.find_all(\"div\", {\"class\":\"details\"})\n",
    "logs = []\n",
    "for a in log:\n",
    "    log = a.get_text()\n",
    "    log = log.strip()\n",
    "    result = log.split(\"Logged\")\n",
    "    result = result[1].split(\"times\")\n",
    "    result = result[0]\n",
    "    result = int(result)\n",
    "    logs.append(result)"
   ]
  },
  {
   "cell_type": "code",
   "execution_count": 187,
   "id": "ac5b9dde",
   "metadata": {},
   "outputs": [],
   "source": [
    "df = pd.DataFrame(Books)"
   ]
  },
  {
   "cell_type": "code",
   "execution_count": 188,
   "id": "5d99acc6",
   "metadata": {},
   "outputs": [],
   "source": [
    "df2 = pd.DataFrame(Authors)"
   ]
  },
  {
   "cell_type": "code",
   "execution_count": 189,
   "id": "04461dfe",
   "metadata": {},
   "outputs": [],
   "source": [
    "df3 = pd.DataFrame(years)"
   ]
  },
  {
   "cell_type": "code",
   "execution_count": 190,
   "id": "bd524204",
   "metadata": {},
   "outputs": [],
   "source": [
    "df4 = pd.DataFrame(logs)"
   ]
  },
  {
   "cell_type": "code",
   "execution_count": 191,
   "id": "af0b54a2",
   "metadata": {},
   "outputs": [
    {
     "ename": "TypeError",
     "evalue": "merge() got multiple values for argument 'how'",
     "output_type": "error",
     "traceback": [
      "\u001b[1;31m---------------------------------------------------------------------------\u001b[0m",
      "\u001b[1;31mTypeError\u001b[0m                                 Traceback (most recent call last)",
      "\u001b[1;32m~\\AppData\\Local\\Temp\\ipykernel_13556\\2492044296.py\u001b[0m in \u001b[0;36m<module>\u001b[1;34m\u001b[0m\n\u001b[1;32m----> 1\u001b[1;33m \u001b[0mAll\u001b[0m \u001b[1;33m=\u001b[0m \u001b[0mpd\u001b[0m\u001b[1;33m.\u001b[0m\u001b[0mmerge\u001b[0m\u001b[1;33m(\u001b[0m\u001b[0mdf\u001b[0m\u001b[1;33m,\u001b[0m \u001b[0mdf2\u001b[0m\u001b[1;33m,\u001b[0m \u001b[0mdf3\u001b[0m\u001b[1;33m,\u001b[0m \u001b[0mdf4\u001b[0m\u001b[1;33m,\u001b[0m \u001b[0mhow\u001b[0m\u001b[1;33m=\u001b[0m\u001b[1;34m'cross'\u001b[0m\u001b[1;33m)\u001b[0m\u001b[1;33m\u001b[0m\u001b[1;33m\u001b[0m\u001b[0m\n\u001b[0m",
      "\u001b[1;31mTypeError\u001b[0m: merge() got multiple values for argument 'how'"
     ]
    }
   ],
   "source": [
    "All = pd.merge(df, df2, df3, df4, how='cross')"
   ]
  },
  {
   "cell_type": "code",
   "execution_count": 229,
   "id": "5b4ccb47",
   "metadata": {},
   "outputs": [
    {
     "ename": "TypeError",
     "evalue": "merge() got an unexpected keyword argument 'suffix'",
     "output_type": "error",
     "traceback": [
      "\u001b[1;31m---------------------------------------------------------------------------\u001b[0m",
      "\u001b[1;31mTypeError\u001b[0m                                 Traceback (most recent call last)",
      "\u001b[1;32m~\\AppData\\Local\\Temp\\ipykernel_13556\\2877739545.py\u001b[0m in \u001b[0;36m<module>\u001b[1;34m\u001b[0m\n\u001b[1;32m----> 1\u001b[1;33m \u001b[0mAll\u001b[0m \u001b[1;33m=\u001b[0m \u001b[0mpd\u001b[0m\u001b[1;33m.\u001b[0m\u001b[0mmerge\u001b[0m\u001b[1;33m(\u001b[0m\u001b[0mdf\u001b[0m\u001b[1;33m,\u001b[0m \u001b[0mdf2\u001b[0m\u001b[1;33m,\u001b[0m \u001b[0mleft_index\u001b[0m\u001b[1;33m=\u001b[0m\u001b[1;32mTrue\u001b[0m\u001b[1;33m,\u001b[0m \u001b[0mright_index\u001b[0m\u001b[1;33m=\u001b[0m\u001b[1;32mTrue\u001b[0m\u001b[1;33m,\u001b[0m \u001b[0msuffix\u001b[0m\u001b[1;33m=\u001b[0m\u001b[1;34m\"Book\"\u001b[0m\u001b[1;33m)\u001b[0m\u001b[1;33m\u001b[0m\u001b[1;33m\u001b[0m\u001b[0m\n\u001b[0m",
      "\u001b[1;31mTypeError\u001b[0m: merge() got an unexpected keyword argument 'suffix'"
     ]
    }
   ],
   "source": [
    "All = pd.merge(df, df2, left_index=True, right_index=True)"
   ]
  },
  {
   "cell_type": "code",
   "execution_count": 227,
   "id": "9f9f59a6",
   "metadata": {},
   "outputs": [],
   "source": [
    "All = pd.merge(All, df3, left_index=True, right_index=True)"
   ]
  },
  {
   "cell_type": "code",
   "execution_count": 228,
   "id": "fc18cf7a",
   "metadata": {},
   "outputs": [
    {
     "name": "stderr",
     "output_type": "stream",
     "text": [
      "C:\\Users\\mmooreii\\AppData\\Local\\Temp\\ipykernel_13556\\922351439.py:1: FutureWarning: Passing 'suffixes' which cause duplicate columns {'0_x'} in the result is deprecated and will raise a MergeError in a future version.\n",
      "  All = pd.merge(All, df4, left_index=True, right_index=True)\n"
     ]
    }
   ],
   "source": [
    "All = pd.merge(All, df4, left_index=True, right_index=True)"
   ]
  },
  {
   "cell_type": "code",
   "execution_count": 230,
   "id": "24912010",
   "metadata": {},
   "outputs": [
    {
     "data": {
      "text/html": [
       "<div>\n",
       "<style scoped>\n",
       "    .dataframe tbody tr th:only-of-type {\n",
       "        vertical-align: middle;\n",
       "    }\n",
       "\n",
       "    .dataframe tbody tr th {\n",
       "        vertical-align: top;\n",
       "    }\n",
       "\n",
       "    .dataframe thead th {\n",
       "        text-align: right;\n",
       "    }\n",
       "</style>\n",
       "<table border=\"1\" class=\"dataframe\">\n",
       "  <thead>\n",
       "    <tr style=\"text-align: right;\">\n",
       "      <th></th>\n",
       "      <th>0_x</th>\n",
       "      <th>0_y</th>\n",
       "      <th>0_x</th>\n",
       "      <th>0_y</th>\n",
       "    </tr>\n",
       "  </thead>\n",
       "  <tbody>\n",
       "    <tr>\n",
       "      <th>0</th>\n",
       "      <td>Atomic Habits</td>\n",
       "      <td>James Clear</td>\n",
       "      <td>2016</td>\n",
       "      <td>41180</td>\n",
       "    </tr>\n",
       "    <tr>\n",
       "      <th>1</th>\n",
       "      <td>It Ends With Us</td>\n",
       "      <td>Colleen Hoover</td>\n",
       "      <td>2012</td>\n",
       "      <td>40566</td>\n",
       "    </tr>\n",
       "    <tr>\n",
       "      <th>2</th>\n",
       "      <td>The 48 Laws of Power</td>\n",
       "      <td>Robert Greene and Joost Elffers</td>\n",
       "      <td>1998</td>\n",
       "      <td>34986</td>\n",
       "    </tr>\n",
       "    <tr>\n",
       "      <th>3</th>\n",
       "      <td>The Subtle Art of Not Giving a F*ck</td>\n",
       "      <td>Mark Manson</td>\n",
       "      <td>2016</td>\n",
       "      <td>30182</td>\n",
       "    </tr>\n",
       "    <tr>\n",
       "      <th>4</th>\n",
       "      <td>Um casamento arranjado</td>\n",
       "      <td>Zana Kheiron</td>\n",
       "      <td>2019</td>\n",
       "      <td>23272</td>\n",
       "    </tr>\n",
       "  </tbody>\n",
       "</table>\n",
       "</div>"
      ],
      "text/plain": [
       "                                   0_x                               0_y  \\\n",
       "0                        Atomic Habits                       James Clear   \n",
       "1                      It Ends With Us                    Colleen Hoover   \n",
       "2                 The 48 Laws of Power   Robert Greene and Joost Elffers   \n",
       "3  The Subtle Art of Not Giving a F*ck                       Mark Manson   \n",
       "4               Um casamento arranjado                      Zana Kheiron   \n",
       "\n",
       "    0_x    0_y  \n",
       "0  2016  41180  \n",
       "1  2012  40566  \n",
       "2  1998  34986  \n",
       "3  2016  30182  \n",
       "4  2019  23272  "
      ]
     },
     "execution_count": 230,
     "metadata": {},
     "output_type": "execute_result"
    }
   ],
   "source": [
    "All.head()"
   ]
  },
  {
   "cell_type": "code",
   "execution_count": 233,
   "id": "60532386",
   "metadata": {},
   "outputs": [
    {
     "ename": "TypeError",
     "evalue": "Index does not support mutable operations",
     "output_type": "error",
     "traceback": [
      "\u001b[1;31m---------------------------------------------------------------------------\u001b[0m",
      "\u001b[1;31mTypeError\u001b[0m                                 Traceback (most recent call last)",
      "\u001b[1;32m~\\AppData\\Local\\Temp\\ipykernel_13556\\2486653729.py\u001b[0m in \u001b[0;36m<module>\u001b[1;34m\u001b[0m\n\u001b[1;32m----> 1\u001b[1;33m \u001b[0mAll\u001b[0m\u001b[1;33m.\u001b[0m\u001b[0mcolumns\u001b[0m\u001b[1;33m[\u001b[0m\u001b[1;36m0\u001b[0m\u001b[1;33m]\u001b[0m \u001b[1;33m=\u001b[0m \u001b[1;34m\"Book\"\u001b[0m\u001b[1;33m\u001b[0m\u001b[1;33m\u001b[0m\u001b[0m\n\u001b[0m",
      "\u001b[1;32mC:\\ProgramData\\Anaconda3\\lib\\site-packages\\pandas\\core\\indexes\\base.py\u001b[0m in \u001b[0;36m__setitem__\u001b[1;34m(self, key, value)\u001b[0m\n\u001b[0;32m   5033\u001b[0m     \u001b[1;33m@\u001b[0m\u001b[0mfinal\u001b[0m\u001b[1;33m\u001b[0m\u001b[1;33m\u001b[0m\u001b[0m\n\u001b[0;32m   5034\u001b[0m     \u001b[1;32mdef\u001b[0m \u001b[0m__setitem__\u001b[0m\u001b[1;33m(\u001b[0m\u001b[0mself\u001b[0m\u001b[1;33m,\u001b[0m \u001b[0mkey\u001b[0m\u001b[1;33m,\u001b[0m \u001b[0mvalue\u001b[0m\u001b[1;33m)\u001b[0m\u001b[1;33m:\u001b[0m\u001b[1;33m\u001b[0m\u001b[1;33m\u001b[0m\u001b[0m\n\u001b[1;32m-> 5035\u001b[1;33m         \u001b[1;32mraise\u001b[0m \u001b[0mTypeError\u001b[0m\u001b[1;33m(\u001b[0m\u001b[1;34m\"Index does not support mutable operations\"\u001b[0m\u001b[1;33m)\u001b[0m\u001b[1;33m\u001b[0m\u001b[1;33m\u001b[0m\u001b[0m\n\u001b[0m\u001b[0;32m   5036\u001b[0m \u001b[1;33m\u001b[0m\u001b[0m\n\u001b[0;32m   5037\u001b[0m     \u001b[1;32mdef\u001b[0m \u001b[0m__getitem__\u001b[0m\u001b[1;33m(\u001b[0m\u001b[0mself\u001b[0m\u001b[1;33m,\u001b[0m \u001b[0mkey\u001b[0m\u001b[1;33m)\u001b[0m\u001b[1;33m:\u001b[0m\u001b[1;33m\u001b[0m\u001b[1;33m\u001b[0m\u001b[0m\n",
      "\u001b[1;31mTypeError\u001b[0m: Index does not support mutable operations"
     ]
    }
   ],
   "source": [
    "All.columns[0] = \"Book\""
   ]
  },
  {
   "cell_type": "code",
   "execution_count": null,
   "id": "5a2188bf",
   "metadata": {},
   "outputs": [],
   "source": []
  }
 ],
 "metadata": {
  "kernelspec": {
   "display_name": "Python 3 (ipykernel)",
   "language": "python",
   "name": "python3"
  },
  "language_info": {
   "codemirror_mode": {
    "name": "ipython",
    "version": 3
   },
   "file_extension": ".py",
   "mimetype": "text/x-python",
   "name": "python",
   "nbconvert_exporter": "python",
   "pygments_lexer": "ipython3",
   "version": "3.9.13"
  }
 },
 "nbformat": 4,
 "nbformat_minor": 5
}
