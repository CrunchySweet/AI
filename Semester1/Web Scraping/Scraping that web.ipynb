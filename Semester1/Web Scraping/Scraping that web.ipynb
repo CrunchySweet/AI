{
 "cells": [
  {
   "cell_type": "code",
   "execution_count": 1,
   "id": "bbb4ca87",
   "metadata": {},
   "outputs": [],
   "source": [
    "import requests\n",
    "from bs4 import BeautifulSoup"
   ]
  },
  {
   "cell_type": "markdown",
   "id": "7cac92e8",
   "metadata": {},
   "source": [
    "## P(A) = 16/250 or 6.4%"
   ]
  },
  {
   "cell_type": "code",
   "execution_count": 5,
   "id": "5b16a5e7",
   "metadata": {},
   "outputs": [],
   "source": [
    "url = \"https://www.scrapethissite.com/pages/simple/\"\n",
    "response =requests.get(url)\n",
    "html_con = response.text\n",
    "soup = BeautifulSoup(html_con, 'html.parser')"
   ]
  },
  {
   "cell_type": "code",
   "execution_count": 10,
   "id": "7cdfc525",
   "metadata": {},
   "outputs": [],
   "source": [
    "h3s = soup.find_all(\"h3\")\n",
    "countries = []\n",
    "for h3 in h3s:\n",
    "    country = h3.get_text()\n",
    "    country = country.strip()\n",
    "    countries.append(country)"
   ]
  },
  {
   "cell_type": "markdown",
   "id": "7ab63876",
   "metadata": {},
   "source": [
    "# P(Has A) = 85.2%"
   ]
  },
  {
   "cell_type": "code",
   "execution_count": null,
   "id": "49cafb8e",
   "metadata": {},
   "outputs": [],
   "source": []
  }
 ],
 "metadata": {
  "kernelspec": {
   "display_name": "Python 3 (ipykernel)",
   "language": "python",
   "name": "python3"
  },
  "language_info": {
   "codemirror_mode": {
    "name": "ipython",
    "version": 3
   },
   "file_extension": ".py",
   "mimetype": "text/x-python",
   "name": "python",
   "nbconvert_exporter": "python",
   "pygments_lexer": "ipython3",
   "version": "3.9.13"
  }
 },
 "nbformat": 4,
 "nbformat_minor": 5
}
