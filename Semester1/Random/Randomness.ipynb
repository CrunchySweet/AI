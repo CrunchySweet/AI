{
 "cells": [
  {
   "cell_type": "code",
   "execution_count": 7,
   "id": "34630cd3",
   "metadata": {},
   "outputs": [],
   "source": [
    "import random"
   ]
  },
  {
   "cell_type": "code",
   "execution_count": 8,
   "id": "dc62f2c1",
   "metadata": {
    "scrolled": true
   },
   "outputs": [],
   "source": [
    "def bean(trials):\n",
    "    \n",
    "    count = 0\n",
    "    beanie = []\n",
    "    avg = 0\n",
    "    while count < trials:\n",
    "        while len(beanie) < 10:\n",
    "            num = random.randint(1, 10)\n",
    "            if num not in beanie:\n",
    "                beanie.append(num)\n",
    "            if len(beanie) == 10:\n",
    "                avg = avg + count\n",
    "            count += 1\n",
    "    return avg/trials"
   ]
  },
  {
   "cell_type": "code",
   "execution_count": null,
   "id": "0397c02e",
   "metadata": {},
   "outputs": [],
   "source": []
  }
 ],
 "metadata": {
  "kernelspec": {
   "display_name": "Python 3 (ipykernel)",
   "language": "python",
   "name": "python3"
  },
  "language_info": {
   "codemirror_mode": {
    "name": "ipython",
    "version": 3
   },
   "file_extension": ".py",
   "mimetype": "text/x-python",
   "name": "python",
   "nbconvert_exporter": "python",
   "pygments_lexer": "ipython3",
   "version": "3.9.13"
  }
 },
 "nbformat": 4,
 "nbformat_minor": 5
}
