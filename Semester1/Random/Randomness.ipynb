{
 "cells": [
  {
   "cell_type": "code",
   "execution_count": 3,
   "id": "2fb3f097",
   "metadata": {},
   "outputs": [
    {
     "data": {
      "text/plain": [
       "4"
      ]
     },
     "execution_count": 3,
     "metadata": {},
     "output_type": "execute_result"
    }
   ],
   "source": [
    "import random"
   ]
  },
  {
   "cell_type": "code",
   "execution_count": 16,
   "id": "87b6c61e",
   "metadata": {
    "scrolled": true
   },
   "outputs": [],
   "source": [
    "def bean(trials):\n",
    "    \n",
    "    count = 0\n",
    "    beanie = []\n",
    "    avg = 0\n",
    "    while count < trials:\n",
    "        while len(beanie) < 10:\n",
    "            num = random.randint(1, 10)\n",
    "            if num not in beanie:\n",
    "                beanie.append(num)\n",
    "            if len(beanie) == 10:\n",
    "                avg = avg + count\n",
    "            count += 1\n",
    "    return avg/trials"
   ]
  },
  {
   "cell_type": "code",
   "execution_count": null,
   "id": "ff650622",
   "metadata": {},
   "outputs": [],
   "source": [
    "bean(100)"
   ]
  },
  {
   "cell_type": "code",
   "execution_count": null,
   "id": "6d61c440",
   "metadata": {},
   "outputs": [],
   "source": []
  }
 ],
 "metadata": {
  "kernelspec": {
   "display_name": "Python 3 (ipykernel)",
   "language": "python",
   "name": "python3"
  },
  "language_info": {
   "codemirror_mode": {
    "name": "ipython",
    "version": 3
   },
   "file_extension": ".py",
   "mimetype": "text/x-python",
   "name": "python",
   "nbconvert_exporter": "python",
   "pygments_lexer": "ipython3",
   "version": "3.9.13"
  }
 },
 "nbformat": 4,
 "nbformat_minor": 5
}
