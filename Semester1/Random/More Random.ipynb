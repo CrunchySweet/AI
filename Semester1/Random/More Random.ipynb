{
 "cells": [
  {
   "cell_type": "code",
   "execution_count": 1,
   "id": "86a3adc2",
   "metadata": {},
   "outputs": [],
   "source": [
    "import random"
   ]
  },
  {
   "cell_type": "markdown",
   "id": "d65c42e1",
   "metadata": {},
   "source": [
    "It is about a 16% chance to pull the hot dorito for the first round."
   ]
  },
  {
   "cell_type": "code",
   "execution_count": 31,
   "id": "57457551",
   "metadata": {},
   "outputs": [
    {
     "name": "stdout",
     "output_type": "stream",
     "text": [
      "Emp Probability: 0.167\n"
     ]
    }
   ],
   "source": [
    "rounds = 0 \n",
    "h_chips = 0\n",
    "trial = 1000\n",
    "while rounds<trial:\n",
    "        num = random.randint(1, 6)\n",
    "        if num == 1:\n",
    "            h_chips += 1\n",
    "        rounds += 1\n",
    "    \n",
    "print(\"Emp Probability:\", str((h_chips/trial)))"
   ]
  },
  {
   "cell_type": "markdown",
   "id": "291a0d81",
   "metadata": {},
   "source": [
    "# P(Same Birth) = 0.0628"
   ]
  },
  {
   "cell_type": "code",
   "execution_count": 45,
   "id": "834ef4af",
   "metadata": {},
   "outputs": [
    {
     "name": "stdout",
     "output_type": "stream",
     "text": [
      "Emp Probability: 0.0032\n"
     ]
    }
   ],
   "source": [
    "rounds = 0 \n",
    "birth = 0\n",
    "trial = 10000\n",
    "while rounds<trial:\n",
    "        p1 = random.randint(1, 366)\n",
    "        p2 = random.randint(1, 366)\n",
    "        if p1 == p2:\n",
    "            birth += 1\n",
    "        rounds += 1\n",
    "print(\"Emp Probability:\", str((birth/trial)))"
   ]
  },
  {
   "cell_type": "markdown",
   "id": "4817e11b",
   "metadata": {},
   "source": [
    "# P(Queens) = 0.07"
   ]
  },
  {
   "cell_type": "code",
   "execution_count": 53,
   "id": "520337b7",
   "metadata": {},
   "outputs": [
    {
     "name": "stdout",
     "output_type": "stream",
     "text": [
      "Emp Probability: 0.079\n"
     ]
    }
   ],
   "source": [
    "rounds = 0 \n",
    "card = 0\n",
    "trial = 1000\n",
    "while rounds<trial:\n",
    "        deck = random.randint(1, 52)\n",
    "        if deck == 1:\n",
    "            card += 1\n",
    "        elif deck ==2:\n",
    "            card += 1\n",
    "        elif deck ==3:\n",
    "            card += 1\n",
    "        elif deck ==4:\n",
    "            card += 1\n",
    "        rounds += 1\n",
    "print(\"Emp Probability:\", str((card/trial)))"
   ]
  },
  {
   "cell_type": "code",
   "execution_count": null,
   "id": "83201eb8",
   "metadata": {},
   "outputs": [],
   "source": []
  }
 ],
 "metadata": {
  "kernelspec": {
   "display_name": "Python 3 (ipykernel)",
   "language": "python",
   "name": "python3"
  },
  "language_info": {
   "codemirror_mode": {
    "name": "ipython",
    "version": 3
   },
   "file_extension": ".py",
   "mimetype": "text/x-python",
   "name": "python",
   "nbconvert_exporter": "python",
   "pygments_lexer": "ipython3",
   "version": "3.9.13"
  }
 },
 "nbformat": 4,
 "nbformat_minor": 5
}
