{
 "cells": [
  {
   "cell_type": "code",
   "execution_count": 7,
   "id": "b2ea6f2d",
   "metadata": {},
   "outputs": [],
   "source": [
    "import random"
   ]
  },
  {
   "cell_type": "markdown",
   "id": "7b2a01e3",
   "metadata": {},
   "source": [
    "## P(O-) = 0.374    1 in 15\n",
    "## P(AB-) = .006    1 in 167"
   ]
  },
  {
   "cell_type": "code",
   "execution_count": 20,
   "id": "e987d1df",
   "metadata": {},
   "outputs": [
    {
     "name": "stdout",
     "output_type": "stream",
     "text": [
      "Emp Probability: 0.0722\n"
     ]
    }
   ],
   "source": [
    "rounds = 0 \n",
    "blood = 0\n",
    "trial = 10000\n",
    "while rounds<trial:\n",
    "        check_type1 = random.randint(1, 15)\n",
    "        check_type2 = random.randint(1, 167)\n",
    "        if check_type1 == 6 or check_type2 == 52:\n",
    "            blood += 1\n",
    "        rounds += 1\n",
    "print(\"Emp Probability:\", str((blood/trial)))"
   ]
  },
  {
   "cell_type": "code",
   "execution_count": null,
   "id": "632b3685",
   "metadata": {},
   "outputs": [],
   "source": []
  }
 ],
 "metadata": {
  "kernelspec": {
   "display_name": "Python 3 (ipykernel)",
   "language": "python",
   "name": "python3"
  },
  "language_info": {
   "codemirror_mode": {
    "name": "ipython",
    "version": 3
   },
   "file_extension": ".py",
   "mimetype": "text/x-python",
   "name": "python",
   "nbconvert_exporter": "python",
   "pygments_lexer": "ipython3",
   "version": "3.9.13"
  }
 },
 "nbformat": 4,
 "nbformat_minor": 5
}
