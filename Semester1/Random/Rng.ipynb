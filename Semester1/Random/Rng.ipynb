{
 "cells": [
  {
   "cell_type": "code",
   "execution_count": 2,
   "id": "16c09d96",
   "metadata": {},
   "outputs": [],
   "source": [
    "import random"
   ]
  },
  {
   "cell_type": "markdown",
   "id": "cb3d6917",
   "metadata": {},
   "source": [
    "## P(Eyes) = 0.25 "
   ]
  },
  {
   "cell_type": "code",
   "execution_count": 8,
   "id": "10bd0c08",
   "metadata": {},
   "outputs": [
    {
     "name": "stdout",
     "output_type": "stream",
     "text": [
      "Emp Probability: 0.1173\n"
     ]
    }
   ],
   "source": [
    "rounds = 0 \n",
    "eye = 0\n",
    "trial = 10000\n",
    "while rounds<trial:\n",
    "        gender = random.randint(1, 2)\n",
    "        gene = random.randint(1, 4)\n",
    "        if gene == 1 and gender == 1:\n",
    "            eye += 1\n",
    "        rounds += 1\n",
    "print(\"Emp Probability:\", str((eye/trial)))"
   ]
  },
  {
   "cell_type": "code",
   "execution_count": null,
   "id": "ae4747c7",
   "metadata": {},
   "outputs": [],
   "source": []
  }
 ],
 "metadata": {
  "kernelspec": {
   "display_name": "Python 3 (ipykernel)",
   "language": "python",
   "name": "python3"
  },
  "language_info": {
   "codemirror_mode": {
    "name": "ipython",
    "version": 3
   },
   "file_extension": ".py",
   "mimetype": "text/x-python",
   "name": "python",
   "nbconvert_exporter": "python",
   "pygments_lexer": "ipython3",
   "version": "3.9.13"
  }
 },
 "nbformat": 4,
 "nbformat_minor": 5
}
