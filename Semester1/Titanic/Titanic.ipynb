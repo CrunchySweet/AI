{
 "cells": [
  {
   "cell_type": "code",
   "execution_count": 21,
   "id": "1c68424d",
   "metadata": {},
   "outputs": [
    {
     "data": {
      "text/plain": [
       "Index(['PassengerId', 'Survived', 'Pclass', 'Name', 'Sex', 'Age', 'SibSp',\n",
       "       'Parch', 'Ticket', 'Fare', 'Cabin', 'Embarked'],\n",
       "      dtype='object')"
      ]
     },
     "execution_count": 21,
     "metadata": {},
     "output_type": "execute_result"
    }
   ],
   "source": [
    "import pandas as pd\n",
    "import seaborn as sns\n",
    "data = pd.read_csv('titanic.csv')\n",
    "data.columns"
   ]
  },
  {
   "cell_type": "code",
   "execution_count": 2,
   "id": "a215152d",
   "metadata": {},
   "outputs": [
    {
     "name": "stdout",
     "output_type": "stream",
     "text": [
      "<class 'pandas.core.frame.DataFrame'>\n",
      "RangeIndex: 891 entries, 0 to 890\n",
      "Data columns (total 12 columns):\n",
      " #   Column       Non-Null Count  Dtype  \n",
      "---  ------       --------------  -----  \n",
      " 0   PassengerId  891 non-null    int64  \n",
      " 1   Survived     891 non-null    int64  \n",
      " 2   Pclass       891 non-null    int64  \n",
      " 3   Name         891 non-null    object \n",
      " 4   Sex          891 non-null    object \n",
      " 5   Age          714 non-null    float64\n",
      " 6   SibSp        891 non-null    int64  \n",
      " 7   Parch        891 non-null    int64  \n",
      " 8   Ticket       891 non-null    object \n",
      " 9   Fare         891 non-null    float64\n",
      " 10  Cabin        204 non-null    object \n",
      " 11  Embarked     889 non-null    object \n",
      "dtypes: float64(2), int64(5), object(5)\n",
      "memory usage: 83.7+ KB\n"
     ]
    }
   ],
   "source": [
    "data.info()"
   ]
  },
  {
   "cell_type": "code",
   "execution_count": 3,
   "id": "0dc71c89",
   "metadata": {},
   "outputs": [],
   "source": [
    "data.at[5, 'Age'] = 28"
   ]
  },
  {
   "cell_type": "code",
   "execution_count": 4,
   "id": "15a8e1d9",
   "metadata": {},
   "outputs": [
    {
     "data": {
      "text/plain": [
       "576"
      ]
     },
     "execution_count": 4,
     "metadata": {},
     "output_type": "execute_result"
    }
   ],
   "source": [
    "count = 0\n",
    "for person in data[\"Age\"]:\n",
    "    if person > 18:\n",
    "        count = count + 1\n",
    "count"
   ]
  },
  {
   "cell_type": "code",
   "execution_count": 5,
   "id": "c4d7ac94",
   "metadata": {},
   "outputs": [
    {
     "data": {
      "text/plain": [
       "64.75869809203144"
      ]
     },
     "execution_count": 5,
     "metadata": {},
     "output_type": "execute_result"
    }
   ],
   "source": [
    "count = 0\n",
    "for person in data[\"Sex\"]:\n",
    "    if person == \"male\":\n",
    "        count = count + 1\n",
    "    \n",
    "count = (count / len(data)) * 100\n",
    "count"
   ]
  },
  {
   "cell_type": "code",
   "execution_count": 6,
   "id": "bcb438f5",
   "metadata": {},
   "outputs": [
    {
     "name": "stdout",
     "output_type": "stream",
     "text": [
      "First class: 216\n",
      "Second class: 184\n",
      "Third class: 491\n"
     ]
    }
   ],
   "source": [
    "first = 0\n",
    "second = 0\n",
    "third = 0\n",
    "for person in data[\"Pclass\"]:\n",
    "    if person == 1:\n",
    "        first += 1\n",
    "    if person == 2:\n",
    "        second += 1\n",
    "    if person == 3:\n",
    "        third += 1\n",
    "        \n",
    "print(\"First class:\", first)\n",
    "print(\"Second class:\", second)\n",
    "print(\"Third class:\", third)"
   ]
  },
  {
   "cell_type": "code",
   "execution_count": 7,
   "id": "d74e4409",
   "metadata": {},
   "outputs": [
    {
     "ename": "SyntaxError",
     "evalue": "invalid syntax (808743299.py, line 12)",
     "output_type": "error",
     "traceback": [
      "\u001b[1;36m  File \u001b[1;32m\"C:\\Users\\mmooreii\\AppData\\Local\\Temp\\ipykernel_464\\808743299.py\"\u001b[1;36m, line \u001b[1;32m12\u001b[0m\n\u001b[1;33m    classes[]\u001b[0m\n\u001b[1;37m            ^\u001b[0m\n\u001b[1;31mSyntaxError\u001b[0m\u001b[1;31m:\u001b[0m invalid syntax\n"
     ]
    }
   ],
   "source": [
    "classes = {\"Class\":[], \"Frequency\":[]}\n",
    "countFirst = 0\n",
    "countSecond = 0\n",
    "countThird = 0\n",
    "for person in data[\"Pclass\"]:\n",
    "    if person == 1:\n",
    "        countFirst += 1\n",
    "    if person == 2:\n",
    "        countSecond += 1\n",
    "    if person == 3:\n",
    "        countThird += 1\n",
    "classes[]\n",
    "    "
   ]
  },
  {
   "cell_type": "code",
   "execution_count": 8,
   "id": "09f952b1",
   "metadata": {},
   "outputs": [
    {
     "data": {
      "text/html": [
       "<div>\n",
       "<style scoped>\n",
       "    .dataframe tbody tr th:only-of-type {\n",
       "        vertical-align: middle;\n",
       "    }\n",
       "\n",
       "    .dataframe tbody tr th {\n",
       "        vertical-align: top;\n",
       "    }\n",
       "\n",
       "    .dataframe thead th {\n",
       "        text-align: right;\n",
       "    }\n",
       "</style>\n",
       "<table border=\"1\" class=\"dataframe\">\n",
       "  <thead>\n",
       "    <tr style=\"text-align: right;\">\n",
       "      <th></th>\n",
       "      <th>PassengerId</th>\n",
       "      <th>Survived</th>\n",
       "      <th>Pclass</th>\n",
       "      <th>Name</th>\n",
       "      <th>Sex</th>\n",
       "      <th>Age</th>\n",
       "      <th>SibSp</th>\n",
       "      <th>Parch</th>\n",
       "      <th>Ticket</th>\n",
       "      <th>Fare</th>\n",
       "      <th>Cabin</th>\n",
       "      <th>Embarked</th>\n",
       "    </tr>\n",
       "  </thead>\n",
       "  <tbody>\n",
       "    <tr>\n",
       "      <th>527</th>\n",
       "      <td>528</td>\n",
       "      <td>0</td>\n",
       "      <td>1</td>\n",
       "      <td>Farthing, Mr. John</td>\n",
       "      <td>male</td>\n",
       "      <td>NaN</td>\n",
       "      <td>0</td>\n",
       "      <td>0</td>\n",
       "      <td>PC 17483</td>\n",
       "      <td>221.7792</td>\n",
       "      <td>C95</td>\n",
       "      <td>S</td>\n",
       "    </tr>\n",
       "  </tbody>\n",
       "</table>\n",
       "</div>"
      ],
      "text/plain": [
       "     PassengerId  Survived  Pclass                Name   Sex  Age  SibSp  \\\n",
       "527          528         0       1  Farthing, Mr. John  male  NaN      0   \n",
       "\n",
       "     Parch    Ticket      Fare Cabin Embarked  \n",
       "527      0  PC 17483  221.7792   C95        S  "
      ]
     },
     "execution_count": 8,
     "metadata": {},
     "output_type": "execute_result"
    }
   ],
   "source": [
    "data[data['PassengerId'] == 528]"
   ]
  },
  {
   "cell_type": "code",
   "execution_count": 9,
   "id": "20db7f81",
   "metadata": {},
   "outputs": [
    {
     "data": {
      "text/plain": [
       "PassengerId                              707\n",
       "Survived                                   1\n",
       "Pclass                                     2\n",
       "Name           Kelly, Mrs. Florence \"Fannie\"\n",
       "Sex                                   female\n",
       "Age                                     45.0\n",
       "SibSp                                      0\n",
       "Parch                                      0\n",
       "Ticket                                223596\n",
       "Fare                                    13.5\n",
       "Cabin                                    NaN\n",
       "Embarked                                   S\n",
       "Name: 706, dtype: object"
      ]
     },
     "execution_count": 9,
     "metadata": {},
     "output_type": "execute_result"
    }
   ],
   "source": [
    "idx = 0\n",
    "for person in data[\"Name\"]:\n",
    "    if \"Fannie\" in person:\n",
    "        break\n",
    "    idx += 1\n",
    "data.loc[idx]"
   ]
  },
  {
   "cell_type": "code",
   "execution_count": 10,
   "id": "98b55e2a",
   "metadata": {},
   "outputs": [
    {
     "data": {
      "text/html": [
       "<div>\n",
       "<style scoped>\n",
       "    .dataframe tbody tr th:only-of-type {\n",
       "        vertical-align: middle;\n",
       "    }\n",
       "\n",
       "    .dataframe tbody tr th {\n",
       "        vertical-align: top;\n",
       "    }\n",
       "\n",
       "    .dataframe thead th {\n",
       "        text-align: right;\n",
       "    }\n",
       "</style>\n",
       "<table border=\"1\" class=\"dataframe\">\n",
       "  <thead>\n",
       "    <tr style=\"text-align: right;\">\n",
       "      <th></th>\n",
       "      <th>Sex</th>\n",
       "      <th>Survived</th>\n",
       "    </tr>\n",
       "  </thead>\n",
       "  <tbody>\n",
       "    <tr>\n",
       "      <th>0</th>\n",
       "      <td>Male</td>\n",
       "      <td>0</td>\n",
       "    </tr>\n",
       "    <tr>\n",
       "      <th>1</th>\n",
       "      <td>Female</td>\n",
       "      <td>0</td>\n",
       "    </tr>\n",
       "  </tbody>\n",
       "</table>\n",
       "</div>"
      ],
      "text/plain": [
       "      Sex  Survived\n",
       "0    Male         0\n",
       "1  Female         0"
      ]
     },
     "execution_count": 10,
     "metadata": {},
     "output_type": "execute_result"
    }
   ],
   "source": [
    "maleCount = 0\n",
    "femaleCount = 0\n",
    "\n",
    "\n",
    "for idx in range(len(data)):\n",
    "    if person == \"male\":\n",
    "        maleCount += 1\n",
    "    elif person == \"female\":\n",
    "        femaleCount += 1\n",
    "\n",
    "Rate = {\n",
    "    'Sex': ['Male', 'Female'],\n",
    "    'Survived': [maleCount, femaleCount]\n",
    "}\n",
    "\n",
    "df2 = pd.DataFrame(Rate)\n",
    "df2.head()"
   ]
  },
  {
   "cell_type": "code",
   "execution_count": 11,
   "id": "16b8a540",
   "metadata": {},
   "outputs": [
    {
     "data": {
      "text/html": [
       "<div>\n",
       "<style scoped>\n",
       "    .dataframe tbody tr th:only-of-type {\n",
       "        vertical-align: middle;\n",
       "    }\n",
       "\n",
       "    .dataframe tbody tr th {\n",
       "        vertical-align: top;\n",
       "    }\n",
       "\n",
       "    .dataframe thead th {\n",
       "        text-align: right;\n",
       "    }\n",
       "</style>\n",
       "<table border=\"1\" class=\"dataframe\">\n",
       "  <thead>\n",
       "    <tr style=\"text-align: right;\">\n",
       "      <th></th>\n",
       "      <th>Male</th>\n",
       "      <th>Female</th>\n",
       "    </tr>\n",
       "  </thead>\n",
       "  <tbody>\n",
       "    <tr>\n",
       "      <th>Died</th>\n",
       "      <td>468</td>\n",
       "      <td>81</td>\n",
       "    </tr>\n",
       "    <tr>\n",
       "      <th>Survived</th>\n",
       "      <td>109</td>\n",
       "      <td>233</td>\n",
       "    </tr>\n",
       "  </tbody>\n",
       "</table>\n",
       "</div>"
      ],
      "text/plain": [
       "          Male  Female\n",
       "Died       468      81\n",
       "Survived   109     233"
      ]
     },
     "execution_count": 11,
     "metadata": {},
     "output_type": "execute_result"
    }
   ],
   "source": [
    "maleSurvived = 0\n",
    "femaleSurvived = 0\n",
    "maleDied = 0\n",
    "femaleDied = 0\n",
    "\n",
    "for idx in range(len(data)):\n",
    "    if data.loc[idx][\"Sex\"] == \"male\" and data.loc[idx][\"Survived\"] == 0:\n",
    "        maleDied += 1\n",
    "    elif data.loc[idx][\"Sex\"] == \"male\" and data.loc[idx][\"Survived\"] == 1:\n",
    "        maleSurvived += 1\n",
    "    elif data.loc[idx][\"Sex\"] == \"female\" and data.loc[idx][\"Survived\"] == 0:\n",
    "        femaleDied += 1\n",
    "    elif data.loc[idx][\"Sex\"] == \"female\" and data.loc[idx][\"Survived\"] == 1:\n",
    "        femaleSurvived += 1\n",
    "        \n",
    "conTable = pd.DataFrame({\n",
    "    \"Male\": [maleDied, maleSurvived],\n",
    "    \"Female\": [femaleDied, femaleSurvived]\n",
    "})\n",
    "conTable.index = [\"Died\", \"Survived\"]\n",
    "conTable.head()"
   ]
  },
  {
   "cell_type": "code",
   "execution_count": 12,
   "id": "48308505",
   "metadata": {},
   "outputs": [
    {
     "name": "stdout",
     "output_type": "stream",
     "text": [
      "80.0\n"
     ]
    }
   ],
   "source": [
    "minAge = data[\"Age\"].max()\n",
    "print(minAge)"
   ]
  },
  {
   "cell_type": "code",
   "execution_count": 13,
   "id": "2b479bed",
   "metadata": {},
   "outputs": [
    {
     "data": {
      "text/html": [
       "<div>\n",
       "<style scoped>\n",
       "    .dataframe tbody tr th:only-of-type {\n",
       "        vertical-align: middle;\n",
       "    }\n",
       "\n",
       "    .dataframe tbody tr th {\n",
       "        vertical-align: top;\n",
       "    }\n",
       "\n",
       "    .dataframe thead th {\n",
       "        text-align: right;\n",
       "    }\n",
       "</style>\n",
       "<table border=\"1\" class=\"dataframe\">\n",
       "  <thead>\n",
       "    <tr style=\"text-align: right;\">\n",
       "      <th></th>\n",
       "      <th>Child</th>\n",
       "      <th>Adult</th>\n",
       "      <th>Elderly</th>\n",
       "      <th>Total</th>\n",
       "    </tr>\n",
       "  </thead>\n",
       "  <tbody>\n",
       "    <tr>\n",
       "      <th>Survived</th>\n",
       "      <td>53.982301</td>\n",
       "      <td>38.541667</td>\n",
       "      <td>26.923077</td>\n",
       "      <td>40.559441</td>\n",
       "    </tr>\n",
       "    <tr>\n",
       "      <th>Died</th>\n",
       "      <td>46.017699</td>\n",
       "      <td>61.458333</td>\n",
       "      <td>73.076923</td>\n",
       "      <td>59.440559</td>\n",
       "    </tr>\n",
       "  </tbody>\n",
       "</table>\n",
       "</div>"
      ],
      "text/plain": [
       "              Child      Adult    Elderly      Total\n",
       "Survived  53.982301  38.541667  26.923077  40.559441\n",
       "Died      46.017699  61.458333  73.076923  59.440559"
      ]
     },
     "execution_count": 13,
     "metadata": {},
     "output_type": "execute_result"
    }
   ],
   "source": [
    "childSur = 0\n",
    "childDie = 0\n",
    "adultSur = 0 \n",
    "adultDie = 0\n",
    "EldSur = 0\n",
    "EldDie= 0\n",
    "childTotal = 0\n",
    "adultTotal = 0\n",
    "EldTotal = 0\n",
    "All = 0\n",
    "AllSur = 0\n",
    "AllDie = 0\n",
    "for idx in range(len(data)):\n",
    "    if data.loc[idx][\"Age\"] < 18 and data.loc[idx][\"Survived\"] == 0:\n",
    "        childDie += 1\n",
    "        childTotal += 1\n",
    "        All += 1\n",
    "        AllDie += 1\n",
    "    elif data.loc[idx][\"Age\"] < 18 and data.loc[idx][\"Survived\"] == 1:\n",
    "        childSur += 1\n",
    "        childTotal += 1\n",
    "        All += 1\n",
    "        AllSur += 1\n",
    "    elif data.loc[idx][\"Age\"] >= 18 and data.loc[idx][\"Age\"] < 60 and data.loc[idx][\"Survived\"] == 0:\n",
    "        adultDie += 1\n",
    "        adultTotal += 1\n",
    "        All += 1\n",
    "        AllDie += 1\n",
    "    elif data.loc[idx][\"Age\"] >= 18 and data.loc[idx][\"Age\"] < 60 and data.loc[idx][\"Survived\"] == 1:\n",
    "        adultSur += 1\n",
    "        adultTotal += 1\n",
    "        All += 1\n",
    "        AllSur += 1\n",
    "    elif data.loc[idx][\"Age\"] >= 60 and data.loc[idx][\"Survived\"] == 0:\n",
    "        EldDie += 1\n",
    "        EldTotal += 1\n",
    "        All += 1\n",
    "        AllDie += 1\n",
    "    elif data.loc[idx][\"Age\"] >= 60 and data.loc[idx][\"Survived\"] == 1:\n",
    "        EldSur += 1\n",
    "        EldTotal += 1\n",
    "        All += 1\n",
    "        AllSur += 1\n",
    "        \n",
    "conTable = {\n",
    "    \"Child\":[childSur/childTotal *100, childDie/childTotal *100],\n",
    "    \"Adult\":[adultSur/adultTotal *100, adultDie/adultTotal *100],\n",
    "    \"Elderly\":[EldSur/EldTotal *100, EldDie/EldTotal *100],\n",
    "    \"Total\":[AllSur/All *100, AllDie/All *100]\n",
    "}\n",
    "df2 = pd.DataFrame(conTable)\n",
    "df2.index = [\"Survived\", \"Died\"]\n",
    "df2.head()"
   ]
  },
  {
   "cell_type": "code",
   "execution_count": 27,
   "id": "69c79a47",
   "metadata": {},
   "outputs": [],
   "source": [
    "passClass = {\"First\": 0,\"Second\": 0,\"Third\": 0}\n",
    "for passenger in data[\"Pclass\"]:\n",
    "    if passenger == 1:\n",
    "        passClass[\"First\"] += 1\n",
    "    elif passenger == 2:\n",
    "        passClass[\"Second\"] += 1\n",
    "    elif passenger == 3:\n",
    "        passClass[\"Third\"] += 1\n",
    "        \n",
    "    percentClasses = {\"First\": (passClass[\"First\"]/len(data))*100,\n",
    "                      \"Second\": (passClass[\"Second\"]/len(data))*100,\n",
    "                      \"Third\": (passClass[\"Third\"]/len(data))*100\n",
    "                     }\n",
    "    freqTable = {\n",
    "      \"Classes\": [\"First\",\"Second\",\"Third\"],\n",
    "       \"Percent\": [passClass[\"First\"], passClass[\"Second\"], passClass[\"Third\"]]\n",
    "    }\n",
    "    freqTable = pd.DataFrame(freqTable)\n",
    "    freqTable.head()"
   ]
  },
  {
   "cell_type": "code",
   "execution_count": 28,
   "id": "acf2ab2e",
   "metadata": {},
   "outputs": [
    {
     "data": {
      "text/plain": [
       "<AxesSubplot:xlabel='Classes', ylabel='Percent'>"
      ]
     },
     "execution_count": 28,
     "metadata": {},
     "output_type": "execute_result"
    },
    {
     "data": {
      "image/png": "[encoded data removed]",
      "text/plain": [
       "<Figure size 640x480 with 1 Axes>"
      ]
     },
     "metadata": {},
     "output_type": "display_data"
    }
   ],
   "source": [
    "sns.barplot(data=freqTable, x=\"Classes\", y=\"Percent\")"
   ]
  },
  {
   "cell_type": "code",
   "execution_count": null,
   "id": "60d77aff",
   "metadata": {},
   "outputs": [],
   "source": []
  }
 ],
 "metadata": {
  "kernelspec": {
   "display_name": "Python 3 (ipykernel)",
   "language": "python",
   "name": "python3"
  },
  "language_info": {
   "codemirror_mode": {
    "name": "ipython",
    "version": 3
   },
   "file_extension": ".py",
   "mimetype": "text/x-python",
   "name": "python",
   "nbconvert_exporter": "python",
   "pygments_lexer": "ipython3",
   "version": "3.9.13"
  }
 },
 "nbformat": 4,
 "nbformat_minor": 5
}
